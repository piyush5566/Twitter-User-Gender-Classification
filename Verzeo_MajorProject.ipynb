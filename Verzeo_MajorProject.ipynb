{
  "nbformat": 4,
  "nbformat_minor": 0,
  "metadata": {
    "kernelspec": {
      "display_name": "Python 3",
      "language": "python",
      "name": "python3"
    },
    "language_info": {
      "codemirror_mode": {
        "name": "ipython",
        "version": 3
      },
      "file_extension": ".py",
      "mimetype": "text/x-python",
      "name": "python",
      "nbconvert_exporter": "python",
      "pygments_lexer": "ipython3",
      "version": "3.7.4"
    },
    "colab": {
      "name": "Verzeo_MajorProject.ipynb",
      "provenance": [],
      "toc_visible": true,
      "include_colab_link": true
    }
  },
  "cells": [
    {
      "cell_type": "markdown",
      "metadata": {
        "id": "view-in-github",
        "colab_type": "text"
      },
      "source": [
        "<a href=\"https://colab.research.google.com/github/piyush5566/Twitter-User-Gender-Classification/blob/master/Verzeo_MajorProject.ipynb\" target=\"_parent\"><img src=\"https://colab.research.google.com/assets/colab-badge.svg\" alt=\"Open In Colab\"/></a>"
      ]
    },
    {
      "cell_type": "code",
      "metadata": {
        "id": "OPiLmS-1qLIM",
        "colab_type": "code",
        "colab": {}
      },
      "source": [
        "import numpy as np\n",
        "import pandas as pd\n",
        "import matplotlib.pyplot as plt\n",
        "\n",
        "from collections import Counter"
      ],
      "execution_count": null,
      "outputs": []
    },
    {
      "cell_type": "code",
      "metadata": {
        "id": "3SY3ww5Atm44",
        "colab_type": "code",
        "colab": {
          "base_uri": "https://localhost:8080/",
          "height": 54
        },
        "outputId": "bcda1987-7758-4160-f324-879fc55aa8b0"
      },
      "source": [
        "from google.colab import drive\n",
        "drive.mount('/content/drive')"
      ],
      "execution_count": null,
      "outputs": [
        {
          "output_type": "stream",
          "text": [
            "Drive already mounted at /content/drive; to attempt to forcibly remount, call drive.mount(\"/content/drive\", force_remount=True).\n"
          ],
          "name": "stdout"
        }
      ]
    },
    {
      "cell_type": "code",
      "metadata": {
        "id": "mJbzg6svqLIR",
        "colab_type": "code",
        "colab": {}
      },
      "source": [
        "#importing data with latin-1 encoding because there are some special characters\n",
        "df = pd.read_csv('/content/drive/My Drive/Verzeo ML/Information.csv', encoding='latin-1')"
      ],
      "execution_count": null,
      "outputs": []
    },
    {
      "cell_type": "code",
      "metadata": {
        "id": "NQ30ZvuaqLIV",
        "colab_type": "code",
        "colab": {
          "base_uri": "https://localhost:8080/",
          "height": 467
        },
        "outputId": "3f99fda4-6a4a-4ca9-f774-9201b64708f8"
      },
      "source": [
        "#a sample of the dataset\n",
        "df.head()"
      ],
      "execution_count": null,
      "outputs": [
        {
          "output_type": "execute_result",
          "data": {
            "text/html": [
              "<div>\n",
              "<style scoped>\n",
              "    .dataframe tbody tr th:only-of-type {\n",
              "        vertical-align: middle;\n",
              "    }\n",
              "\n",
              "    .dataframe tbody tr th {\n",
              "        vertical-align: top;\n",
              "    }\n",
              "\n",
              "    .dataframe thead th {\n",
              "        text-align: right;\n",
              "    }\n",
              "</style>\n",
              "<table border=\"1\" class=\"dataframe\">\n",
              "  <thead>\n",
              "    <tr style=\"text-align: right;\">\n",
              "      <th></th>\n",
              "      <th>_unit_id</th>\n",
              "      <th>_golden</th>\n",
              "      <th>_unit_state</th>\n",
              "      <th>_trusted_judgments</th>\n",
              "      <th>_last_judgment_at</th>\n",
              "      <th>gender</th>\n",
              "      <th>gender:confidence</th>\n",
              "      <th>profile_yn</th>\n",
              "      <th>profile_yn:confidence</th>\n",
              "      <th>created</th>\n",
              "      <th>description</th>\n",
              "      <th>fav_number</th>\n",
              "      <th>gender_gold</th>\n",
              "      <th>link_color</th>\n",
              "      <th>name</th>\n",
              "      <th>profile_yn_gold</th>\n",
              "      <th>profileimage</th>\n",
              "      <th>retweet_count</th>\n",
              "      <th>sidebar_color</th>\n",
              "      <th>text</th>\n",
              "      <th>tweet_coord</th>\n",
              "      <th>tweet_count</th>\n",
              "      <th>tweet_created</th>\n",
              "      <th>tweet_id</th>\n",
              "      <th>tweet_location</th>\n",
              "      <th>user_timezone</th>\n",
              "    </tr>\n",
              "  </thead>\n",
              "  <tbody>\n",
              "    <tr>\n",
              "      <th>0</th>\n",
              "      <td>815719226</td>\n",
              "      <td>False</td>\n",
              "      <td>finalized</td>\n",
              "      <td>3</td>\n",
              "      <td>10/26/15 23:24</td>\n",
              "      <td>male</td>\n",
              "      <td>1.0000</td>\n",
              "      <td>yes</td>\n",
              "      <td>1.0</td>\n",
              "      <td>12/5/13 1:48</td>\n",
              "      <td>i sing my own rhythm.</td>\n",
              "      <td>0</td>\n",
              "      <td>NaN</td>\n",
              "      <td>08C2C2</td>\n",
              "      <td>sheezy0</td>\n",
              "      <td>NaN</td>\n",
              "      <td>https://pbs.twimg.com/profile_images/414342229...</td>\n",
              "      <td>0</td>\n",
              "      <td>FFFFFF</td>\n",
              "      <td>Robbie E Responds To Critics After Win Against...</td>\n",
              "      <td>NaN</td>\n",
              "      <td>110964</td>\n",
              "      <td>10/26/15 12:40</td>\n",
              "      <td>6.587300e+17</td>\n",
              "      <td>main; @Kan1shk3</td>\n",
              "      <td>Chennai</td>\n",
              "    </tr>\n",
              "    <tr>\n",
              "      <th>1</th>\n",
              "      <td>815719227</td>\n",
              "      <td>False</td>\n",
              "      <td>finalized</td>\n",
              "      <td>3</td>\n",
              "      <td>10/26/15 23:30</td>\n",
              "      <td>male</td>\n",
              "      <td>1.0000</td>\n",
              "      <td>yes</td>\n",
              "      <td>1.0</td>\n",
              "      <td>10/1/12 13:51</td>\n",
              "      <td>I'm the author of novels filled with family dr...</td>\n",
              "      <td>68</td>\n",
              "      <td>NaN</td>\n",
              "      <td>0084B4</td>\n",
              "      <td>DavdBurnett</td>\n",
              "      <td>NaN</td>\n",
              "      <td>https://pbs.twimg.com/profile_images/539604221...</td>\n",
              "      <td>0</td>\n",
              "      <td>C0DEED</td>\n",
              "      <td>ÛÏIt felt like they were my friends and I was...</td>\n",
              "      <td>NaN</td>\n",
              "      <td>7471</td>\n",
              "      <td>10/26/15 12:40</td>\n",
              "      <td>6.587300e+17</td>\n",
              "      <td>NaN</td>\n",
              "      <td>Eastern Time (US &amp; Canada)</td>\n",
              "    </tr>\n",
              "    <tr>\n",
              "      <th>2</th>\n",
              "      <td>815719228</td>\n",
              "      <td>False</td>\n",
              "      <td>finalized</td>\n",
              "      <td>3</td>\n",
              "      <td>10/26/15 23:33</td>\n",
              "      <td>male</td>\n",
              "      <td>0.6625</td>\n",
              "      <td>yes</td>\n",
              "      <td>1.0</td>\n",
              "      <td>11/28/14 11:30</td>\n",
              "      <td>louis whining and squealing and all</td>\n",
              "      <td>7696</td>\n",
              "      <td>NaN</td>\n",
              "      <td>ABB8C2</td>\n",
              "      <td>lwtprettylaugh</td>\n",
              "      <td>NaN</td>\n",
              "      <td>https://pbs.twimg.com/profile_images/657330418...</td>\n",
              "      <td>1</td>\n",
              "      <td>C0DEED</td>\n",
              "      <td>i absolutely adore when louis starts the songs...</td>\n",
              "      <td>NaN</td>\n",
              "      <td>5617</td>\n",
              "      <td>10/26/15 12:40</td>\n",
              "      <td>6.587300e+17</td>\n",
              "      <td>clcncl</td>\n",
              "      <td>Belgrade</td>\n",
              "    </tr>\n",
              "    <tr>\n",
              "      <th>3</th>\n",
              "      <td>815719229</td>\n",
              "      <td>False</td>\n",
              "      <td>finalized</td>\n",
              "      <td>3</td>\n",
              "      <td>10/26/15 23:10</td>\n",
              "      <td>male</td>\n",
              "      <td>1.0000</td>\n",
              "      <td>yes</td>\n",
              "      <td>1.0</td>\n",
              "      <td>6/11/09 22:39</td>\n",
              "      <td>Mobile guy.  49ers, Shazam, Google, Kleiner Pe...</td>\n",
              "      <td>202</td>\n",
              "      <td>NaN</td>\n",
              "      <td>0084B4</td>\n",
              "      <td>douggarland</td>\n",
              "      <td>NaN</td>\n",
              "      <td>https://pbs.twimg.com/profile_images/259703936...</td>\n",
              "      <td>0</td>\n",
              "      <td>C0DEED</td>\n",
              "      <td>Hi @JordanSpieth - Looking at the url - do you...</td>\n",
              "      <td>NaN</td>\n",
              "      <td>1693</td>\n",
              "      <td>10/26/15 12:40</td>\n",
              "      <td>6.587300e+17</td>\n",
              "      <td>Palo Alto, CA</td>\n",
              "      <td>Pacific Time (US &amp; Canada)</td>\n",
              "    </tr>\n",
              "    <tr>\n",
              "      <th>4</th>\n",
              "      <td>815719230</td>\n",
              "      <td>False</td>\n",
              "      <td>finalized</td>\n",
              "      <td>3</td>\n",
              "      <td>10/27/15 1:15</td>\n",
              "      <td>female</td>\n",
              "      <td>1.0000</td>\n",
              "      <td>yes</td>\n",
              "      <td>1.0</td>\n",
              "      <td>4/16/14 13:23</td>\n",
              "      <td>Ricky Wilson The Best FRONTMAN/Kaiser Chiefs T...</td>\n",
              "      <td>37318</td>\n",
              "      <td>NaN</td>\n",
              "      <td>3B94D9</td>\n",
              "      <td>WilfordGemma</td>\n",
              "      <td>NaN</td>\n",
              "      <td>https://pbs.twimg.com/profile_images/564094871...</td>\n",
              "      <td>0</td>\n",
              "      <td>0</td>\n",
              "      <td>Watching Neighbours on Sky+ catching up with t...</td>\n",
              "      <td>NaN</td>\n",
              "      <td>31462</td>\n",
              "      <td>10/26/15 12:40</td>\n",
              "      <td>6.587300e+17</td>\n",
              "      <td>NaN</td>\n",
              "      <td>NaN</td>\n",
              "    </tr>\n",
              "  </tbody>\n",
              "</table>\n",
              "</div>"
            ],
            "text/plain": [
              "    _unit_id  _golden  ...   tweet_location               user_timezone\n",
              "0  815719226    False  ...  main; @Kan1shk3                     Chennai\n",
              "1  815719227    False  ...              NaN  Eastern Time (US & Canada)\n",
              "2  815719228    False  ...           clcncl                    Belgrade\n",
              "3  815719229    False  ...    Palo Alto, CA  Pacific Time (US & Canada)\n",
              "4  815719230    False  ...              NaN                         NaN\n",
              "\n",
              "[5 rows x 26 columns]"
            ]
          },
          "metadata": {
            "tags": []
          },
          "execution_count": 5
        }
      ]
    },
    {
      "cell_type": "code",
      "metadata": {
        "id": "s0Oc30DoqLIZ",
        "colab_type": "code",
        "colab": {
          "base_uri": "https://localhost:8080/",
          "height": 571
        },
        "outputId": "b6ee7429-f3a1-44ac-95cf-58d89b2d2032"
      },
      "source": [
        "df.info()"
      ],
      "execution_count": null,
      "outputs": [
        {
          "output_type": "stream",
          "text": [
            "<class 'pandas.core.frame.DataFrame'>\n",
            "RangeIndex: 20050 entries, 0 to 20049\n",
            "Data columns (total 26 columns):\n",
            " #   Column                 Non-Null Count  Dtype  \n",
            "---  ------                 --------------  -----  \n",
            " 0   _unit_id               20050 non-null  int64  \n",
            " 1   _golden                20050 non-null  bool   \n",
            " 2   _unit_state            20050 non-null  object \n",
            " 3   _trusted_judgments     20050 non-null  int64  \n",
            " 4   _last_judgment_at      20000 non-null  object \n",
            " 5   gender                 19953 non-null  object \n",
            " 6   gender:confidence      20024 non-null  float64\n",
            " 7   profile_yn             20050 non-null  object \n",
            " 8   profile_yn:confidence  20050 non-null  float64\n",
            " 9   created                20050 non-null  object \n",
            " 10  description            16306 non-null  object \n",
            " 11  fav_number             20050 non-null  int64  \n",
            " 12  gender_gold            50 non-null     object \n",
            " 13  link_color             20050 non-null  object \n",
            " 14  name                   20050 non-null  object \n",
            " 15  profile_yn_gold        50 non-null     object \n",
            " 16  profileimage           20050 non-null  object \n",
            " 17  retweet_count          20050 non-null  int64  \n",
            " 18  sidebar_color          20050 non-null  object \n",
            " 19  text                   20050 non-null  object \n",
            " 20  tweet_coord            159 non-null    object \n",
            " 21  tweet_count            20050 non-null  int64  \n",
            " 22  tweet_created          20050 non-null  object \n",
            " 23  tweet_id               20050 non-null  float64\n",
            " 24  tweet_location         12566 non-null  object \n",
            " 25  user_timezone          12252 non-null  object \n",
            "dtypes: bool(1), float64(3), int64(5), object(17)\n",
            "memory usage: 3.8+ MB\n"
          ],
          "name": "stdout"
        }
      ]
    },
    {
      "cell_type": "code",
      "metadata": {
        "id": "sr9YafQ9qLId",
        "colab_type": "code",
        "colab": {
          "base_uri": "https://localhost:8080/",
          "height": 34
        },
        "outputId": "3f266e09-3b6d-4569-c8fe-5815fdf06ef8"
      },
      "source": [
        "df.shape"
      ],
      "execution_count": null,
      "outputs": [
        {
          "output_type": "execute_result",
          "data": {
            "text/plain": [
              "(20050, 26)"
            ]
          },
          "metadata": {
            "tags": []
          },
          "execution_count": 7
        }
      ]
    },
    {
      "cell_type": "code",
      "metadata": {
        "id": "u684YcTcqLIh",
        "colab_type": "code",
        "colab": {
          "base_uri": "https://localhost:8080/",
          "height": 218
        },
        "outputId": "6b5d9ed2-116a-48ab-c523-f4032dd428b5"
      },
      "source": [
        "df['gender:confidence'].value_counts()"
      ],
      "execution_count": null,
      "outputs": [
        {
          "output_type": "execute_result",
          "data": {
            "text/plain": [
              "1.0000    13926\n",
              "0.0000       71\n",
              "0.6691       31\n",
              "0.6709       30\n",
              "0.6591       30\n",
              "          ...  \n",
              "0.6379        1\n",
              "0.6322        1\n",
              "0.6911        1\n",
              "0.6971        1\n",
              "0.6873        1\n",
              "Name: gender:confidence, Length: 923, dtype: int64"
            ]
          },
          "metadata": {
            "tags": []
          },
          "execution_count": 8
        }
      ]
    },
    {
      "cell_type": "markdown",
      "metadata": {
        "id": "MAOk6EWAqLIk",
        "colab_type": "text"
      },
      "source": [
        "Only 13926 gender categories are with 100% confidence. So for the prediction of genders we will be using only the ones with 100% confidence  "
      ]
    },
    {
      "cell_type": "code",
      "metadata": {
        "id": "bTjWl3PoqLIl",
        "colab_type": "code",
        "colab": {
          "base_uri": "https://localhost:8080/",
          "height": 101
        },
        "outputId": "e488630f-f1f5-4955-95a3-b86f576d38ef"
      },
      "source": [
        "df['gender'].value_counts()"
      ],
      "execution_count": null,
      "outputs": [
        {
          "output_type": "execute_result",
          "data": {
            "text/plain": [
              "female     6700\n",
              "male       6194\n",
              "brand      5942\n",
              "unknown    1117\n",
              "Name: gender, dtype: int64"
            ]
          },
          "metadata": {
            "tags": []
          },
          "execution_count": 9
        }
      ]
    },
    {
      "cell_type": "markdown",
      "metadata": {
        "id": "ZZ4UT3JsqLIp",
        "colab_type": "text"
      },
      "source": [
        "We will only consider male, female and brand categories as unknown is lesser in count and doesnt provide much inofrmation at the same time."
      ]
    },
    {
      "cell_type": "markdown",
      "metadata": {
        "id": "yPFlFnrhqLIq",
        "colab_type": "text"
      },
      "source": [
        "# Data Analysis"
      ]
    },
    {
      "cell_type": "markdown",
      "metadata": {
        "id": "BvX77yQUqLIr",
        "colab_type": "text"
      },
      "source": [
        "## 1. Link_Color and Sidebar_Color Features Exploration"
      ]
    },
    {
      "cell_type": "markdown",
      "metadata": {
        "id": "thf4wSv-qLIr",
        "colab_type": "text"
      },
      "source": [
        "Exploring the features sidebar color and link color for the three gender categories male, female and brand"
      ]
    },
    {
      "cell_type": "code",
      "metadata": {
        "id": "Ws5Bii7wqLIs",
        "colab_type": "code",
        "colab": {}
      },
      "source": [
        "# Defining the function to return values from link_color and sidebar_color for each gender category\n",
        "def plot_color_features(data, feature, toRemove):\n",
        "    # Selecting columns from the data\n",
        "    df_col = df.loc[:, ['gender:confidence', 'gender', feature]]\n",
        "    \n",
        "    # Selecting rows where gender:confidence >= 1 and removing values like 7.60E+42\n",
        "    dfcolFiltered = df_col[(df_col['gender:confidence'] >= 1) &\n",
        "                         ((df_col[feature]).str.contains('E\\+') != True)]\n",
        "    \n",
        "    # Segregating data based on the gender category\n",
        "    Male_data = dfcolFiltered[dfcolFiltered['gender'] == 'male']\n",
        "    Female_data = dfcolFiltered[dfcolFiltered['gender'] == 'female']\n",
        "    Brand_data = dfcolFiltered[dfcolFiltered['gender'] == 'brand']\n",
        "    \n",
        "    # To plot the graph, I need top 20 colors along with its count for each gender category\n",
        "    color_male = Male_data[feature]\n",
        "    color_female = Female_data[feature]\n",
        "    color_brand = Brand_data[feature]\n",
        "    \n",
        "    # Creating list of lists by using flatten method\n",
        "    male_list = list(color_male.values.flatten())\n",
        "    female_list = list(color_female.values.flatten())\n",
        "    brand_list = list(color_brand.values.flatten())\n",
        "    \n",
        "    # Only Selecting top 20 colors used by each gender and creating a list which includes the color and the count\n",
        "    color_male = Counter(color_male).most_common(21)\n",
        "    color_female = Counter(color_female).most_common(21)\n",
        "    color_brand = Counter(color_brand).most_common(21)\n",
        "    \n",
        "    # Taking list of colors for each gender category\n",
        "    # Not selecting the first most common color from each of the gender category\n",
        "    male_colors = [x[0] for x in color_male[toRemove:]] \n",
        "    female_colors = [x[0] for x in color_female[toRemove:]] \n",
        "    brand_colors = [x[0] for x in color_brand[toRemove:]]\n",
        "    \n",
        "    # Taking list of counts for each gender category\n",
        "    # Not Selecting the first most common number because the most common color is blue for all the categories and it doesnt give much value\n",
        "    male_num = [x[1] for x in color_male[toRemove:]] \n",
        "    female_num = [x[1] for x in color_female[toRemove:]] \n",
        "    brand_num = [x[1] for x in color_brand[toRemove:]]\n",
        "    \n",
        "    # Converting hex codes into consistent format\n",
        "    # 1. Prefixing hex code with # and adding six zeros to it\n",
        "    # 2. Selecting 6 characters from the newly converted hex code\n",
        "    Hexcolor_Male = ['#' + x + '000000' for x in male_colors]\n",
        "    Hexcolor_Male = [x[0:7] for x in Hexcolor_Male]\n",
        "    Hexcolor_Female = ['#' + x + '000000' for x in female_colors]\n",
        "    Hexcolor_Female = [x[0:7] for x in Hexcolor_Female]\n",
        "    Hexcolor_Brand = ['#' + x + '000000' for x in brand_colors]\n",
        "    Hexcolor_Brand = [x[0:7] for x in Hexcolor_Brand]\n",
        "    \n",
        "    return male_num, female_num, brand_num, Hexcolor_Male, Hexcolor_Female, Hexcolor_Brand"
      ],
      "execution_count": null,
      "outputs": []
    },
    {
      "cell_type": "markdown",
      "metadata": {
        "id": "XwmA7xZEqLIv",
        "colab_type": "text"
      },
      "source": [
        "### A. Exploring link_color attribute for each of the gender category"
      ]
    },
    {
      "cell_type": "code",
      "metadata": {
        "id": "_70IGMceqLIw",
        "colab_type": "code",
        "colab": {}
      },
      "source": [
        "# calling function plot_color_features and removing 1 most common occuring color from each category\n",
        "male_num, female_num, brand_num, Hexcolor_Male, Hexcolor_Female, Hexcolor_Brand = plot_color_features(df, 'link_color', 1)"
      ],
      "execution_count": null,
      "outputs": []
    },
    {
      "cell_type": "code",
      "metadata": {
        "id": "PltDTGLYqLIz",
        "colab_type": "code",
        "colab": {}
      },
      "source": [
        "col_range = list(range(len(male_num)))"
      ],
      "execution_count": null,
      "outputs": []
    },
    {
      "cell_type": "markdown",
      "metadata": {
        "id": "xk7GmzWNqLI2",
        "colab_type": "text"
      },
      "source": [
        "#### Plotting the graph of the link_color for the Male gender"
      ]
    },
    {
      "cell_type": "code",
      "metadata": {
        "id": "vlYkvte7qLI3",
        "colab_type": "code",
        "colab": {
          "base_uri": "https://localhost:8080/",
          "height": 312
        },
        "outputId": "c11d2e0b-a30a-45e3-bc24-d7e3507bc742"
      },
      "source": [
        "plt.barh(col_range,male_num,\n",
        "                label = 'Male', color = Hexcolor_Male)\n",
        "plt.yticks(col_range, Hexcolor_Male)\n",
        "plt.xlabel('color')\n",
        "plt.ylabel('link_color')\n",
        "plt. title('Link Colors which Male gender prefer ')"
      ],
      "execution_count": null,
      "outputs": [
        {
          "output_type": "execute_result",
          "data": {
            "text/plain": [
              "Text(0.5, 1.0, 'Link Colors which Male gender prefer ')"
            ]
          },
          "metadata": {
            "tags": []
          },
          "execution_count": 13
        },
        {
          "output_type": "display_data",
          "data": {
            "image/png": "[encoded data removed]",
            "text/plain": [
              "<Figure size 432x288 with 1 Axes>"
            ]
          },
          "metadata": {
            "tags": [],
            "needs_background": "light"
          }
        }
      ]
    },
    {
      "cell_type": "markdown",
      "metadata": {
        "id": "CkqUoeMUqLI9",
        "colab_type": "text"
      },
      "source": [
        "#### Plotting the graph of the link_color for the Female gender"
      ]
    },
    {
      "cell_type": "code",
      "metadata": {
        "id": "58QY4RphqLI9",
        "colab_type": "code",
        "colab": {
          "base_uri": "https://localhost:8080/",
          "height": 312
        },
        "outputId": "ae9c1dee-9c08-4af5-968f-7214ad223518"
      },
      "source": [
        "plt.barh(col_range,female_num,\n",
        "                label = 'Female', color = Hexcolor_Female)\n",
        "plt.yticks(col_range, Hexcolor_Female)\n",
        "plt.xlabel('color')\n",
        "plt.ylabel('link_color')\n",
        "plt. title('Link Colors which Female gender prefer')"
      ],
      "execution_count": null,
      "outputs": [
        {
          "output_type": "execute_result",
          "data": {
            "text/plain": [
              "Text(0.5, 1.0, 'Link Colors which Female gender prefer')"
            ]
          },
          "metadata": {
            "tags": []
          },
          "execution_count": 14
        },
        {
          "output_type": "display_data",
          "data": {
            "image/png": "[encoded data removed]",
            "text/plain": [
              "<Figure size 432x288 with 1 Axes>"
            ]
          },
          "metadata": {
            "tags": [],
            "needs_background": "light"
          }
        }
      ]
    },
    {
      "cell_type": "markdown",
      "metadata": {
        "id": "JgUsmvtXqLJA",
        "colab_type": "text"
      },
      "source": [
        "#### Plotting the graph of the link_color for the Brand gender"
      ]
    },
    {
      "cell_type": "code",
      "metadata": {
        "id": "SNBuvC2eqLJB",
        "colab_type": "code",
        "colab": {
          "base_uri": "https://localhost:8080/",
          "height": 312
        },
        "outputId": "b334282c-53c6-45cf-8a82-34b6ad06be15"
      },
      "source": [
        "plt.barh(col_range,brand_num,\n",
        "                label = 'Brand', color = Hexcolor_Brand)\n",
        "plt.yticks(col_range, Hexcolor_Brand)\n",
        "plt.xlabel('color')\n",
        "plt.ylabel('link_color')\n",
        "plt. title('Link Colors which Brand gender prefer')"
      ],
      "execution_count": null,
      "outputs": [
        {
          "output_type": "execute_result",
          "data": {
            "text/plain": [
              "Text(0.5, 1.0, 'Link Colors which Brand gender prefer')"
            ]
          },
          "metadata": {
            "tags": []
          },
          "execution_count": 15
        },
        {
          "output_type": "display_data",
          "data": {
            "image/png": "[encoded data removed]",
            "text/plain": [
              "<Figure size 432x288 with 1 Axes>"
            ]
          },
          "metadata": {
            "tags": [],
            "needs_background": "light"
          }
        }
      ]
    },
    {
      "cell_type": "markdown",
      "metadata": {
        "id": "aDv1FaTpqLJE",
        "colab_type": "text"
      },
      "source": [
        "### B. Exploring sidebar_color for each of the gender category"
      ]
    },
    {
      "cell_type": "code",
      "metadata": {
        "id": "ij46F6_JqLJF",
        "colab_type": "code",
        "colab": {}
      },
      "source": [
        "# calling function plot_color_features and removing 4 most common occuring color from each category\n",
        "male_num_sc, female_num_sc, brand_num_sc, Hexcolor_Male_sc, Hexcolor_Female_sc, Hexcolor_Brand_sc = plot_color_features(df, 'sidebar_color', 4)"
      ],
      "execution_count": null,
      "outputs": []
    },
    {
      "cell_type": "code",
      "metadata": {
        "id": "SJ6GxssAqLJI",
        "colab_type": "code",
        "colab": {}
      },
      "source": [
        "col_range_sc = list(range(len(male_num_sc)))"
      ],
      "execution_count": null,
      "outputs": []
    },
    {
      "cell_type": "markdown",
      "metadata": {
        "id": "2O9CHTuXqLJL",
        "colab_type": "text"
      },
      "source": [
        "#### Plotting the graph of the side_color for the Male gender"
      ]
    },
    {
      "cell_type": "code",
      "metadata": {
        "id": "4vl1wrG-qLJL",
        "colab_type": "code",
        "colab": {
          "base_uri": "https://localhost:8080/",
          "height": 312
        },
        "outputId": "0168bba2-9bb8-4b45-ffbb-788cef7f395a"
      },
      "source": [
        "plt.barh(col_range_sc,male_num_sc,\n",
        "                label = 'Male', color = Hexcolor_Male_sc)\n",
        "plt.yticks(col_range_sc, Hexcolor_Male_sc)\n",
        "plt.xlabel('color')\n",
        "plt.ylabel('sidebar_color')\n",
        "plt. title('Sidebar colors which Male gender prefer')"
      ],
      "execution_count": null,
      "outputs": [
        {
          "output_type": "execute_result",
          "data": {
            "text/plain": [
              "Text(0.5, 1.0, 'Sidebar colors which Male gender prefer')"
            ]
          },
          "metadata": {
            "tags": []
          },
          "execution_count": 18
        },
        {
          "output_type": "display_data",
          "data": {
            "image/png": "[encoded data removed]",
            "text/plain": [
              "<Figure size 432x288 with 1 Axes>"
            ]
          },
          "metadata": {
            "tags": [],
            "needs_background": "light"
          }
        }
      ]
    },
    {
      "cell_type": "markdown",
      "metadata": {
        "id": "CecgB9rOqLJP",
        "colab_type": "text"
      },
      "source": [
        "#### Plotting the graph of the sidebar_color for the Female gender"
      ]
    },
    {
      "cell_type": "code",
      "metadata": {
        "id": "btUKW4gKqLJP",
        "colab_type": "code",
        "colab": {
          "base_uri": "https://localhost:8080/",
          "height": 312
        },
        "outputId": "faabf239-f0b3-4cf3-b0a3-0c8598ca3580"
      },
      "source": [
        "plt.barh(col_range_sc,female_num_sc,\n",
        "                label = 'Female', color = Hexcolor_Female_sc)\n",
        "plt.yticks(col_range_sc, Hexcolor_Female_sc)\n",
        "plt.xlabel('color')\n",
        "plt.ylabel('sidebar_color')\n",
        "plt. title('Sidebar colors which Female gender prefer')"
      ],
      "execution_count": null,
      "outputs": [
        {
          "output_type": "execute_result",
          "data": {
            "text/plain": [
              "Text(0.5, 1.0, 'Sidebar colors which Female gender prefer')"
            ]
          },
          "metadata": {
            "tags": []
          },
          "execution_count": 19
        },
        {
          "output_type": "display_data",
          "data": {
            "image/png": "[encoded data removed]",
            "text/plain": [
              "<Figure size 432x288 with 1 Axes>"
            ]
          },
          "metadata": {
            "tags": [],
            "needs_background": "light"
          }
        }
      ]
    },
    {
      "cell_type": "markdown",
      "metadata": {
        "id": "1G9ZE_WvqLJS",
        "colab_type": "text"
      },
      "source": [
        "#### Plotting the graph of the sidebar_color for the Brand gender"
      ]
    },
    {
      "cell_type": "code",
      "metadata": {
        "id": "Wvy2HlKwqLJT",
        "colab_type": "code",
        "colab": {
          "base_uri": "https://localhost:8080/",
          "height": 312
        },
        "outputId": "6d687909-5650-4052-d22d-3f31e3ac041f"
      },
      "source": [
        "plt.barh(col_range_sc,brand_num_sc,\n",
        "                label = 'Brand', color = Hexcolor_Brand_sc)\n",
        "plt.yticks(col_range_sc, Hexcolor_Brand_sc)\n",
        "plt.xlabel('color')\n",
        "plt.ylabel('sidebar_color')\n",
        "plt. title('Sidebar colors which Brand gender prefer')"
      ],
      "execution_count": null,
      "outputs": [
        {
          "output_type": "execute_result",
          "data": {
            "text/plain": [
              "Text(0.5, 1.0, 'Sidebar colors which Brand gender prefer')"
            ]
          },
          "metadata": {
            "tags": []
          },
          "execution_count": 20
        },
        {
          "output_type": "display_data",
          "data": {
            "image/png": "[encoded data removed]",
            "text/plain": [
              "<Figure size 432x288 with 1 Axes>"
            ]
          },
          "metadata": {
            "tags": [],
            "needs_background": "light"
          }
        }
      ]
    },
    {
      "cell_type": "markdown",
      "metadata": {
        "id": "-6fatQBBqLJW",
        "colab_type": "text"
      },
      "source": [
        "#### Observations from the Colors Features exploration"
      ]
    },
    {
      "cell_type": "markdown",
      "metadata": {
        "id": "pwRAVE4LqLJW",
        "colab_type": "text"
      },
      "source": [
        "</ol>\n",
        "<li>Female prefer pink and purple as their link_color</li>\n",
        "<li>Male prefer green and blue as their link_color</li>\n",
        "<li>Brand prefer blue or green as their link_color</li>\n",
        "<li>Users change link color more than the side bar color</li>\n",
        "</ol>"
      ]
    },
    {
      "cell_type": "markdown",
      "metadata": {
        "id": "AZdJNIwIqLJX",
        "colab_type": "text"
      },
      "source": [
        "## 2. Text and Description Features Exploration"
      ]
    },
    {
      "cell_type": "markdown",
      "metadata": {
        "id": "v08LzQoaqLJY",
        "colab_type": "text"
      },
      "source": [
        "Exploring which words are mostly used by each gender category (Male, Female and Brand)."
      ]
    },
    {
      "cell_type": "markdown",
      "metadata": {
        "id": "vkfWrqvfqLJY",
        "colab_type": "text"
      },
      "source": [
        "Description field contains description of the user's profile. This field contains 3744 values as NaN (ie. Not a Number). It would cause problem while trying to clean 'description' field. Therefore changing NaN to blank (ie. '')"
      ]
    },
    {
      "cell_type": "code",
      "metadata": {
        "id": "F2sQ8b6kqLJZ",
        "colab_type": "code",
        "colab": {}
      },
      "source": [
        "df.description = df.description.fillna('')"
      ],
      "execution_count": null,
      "outputs": []
    },
    {
      "cell_type": "markdown",
      "metadata": {
        "id": "Q-4qa6utqLJc",
        "colab_type": "text"
      },
      "source": [
        "### Data Cleaning"
      ]
    },
    {
      "cell_type": "code",
      "metadata": {
        "id": "xwaRYwkqqLJc",
        "colab_type": "code",
        "colab": {}
      },
      "source": [
        "import string\n",
        "import re"
      ],
      "execution_count": null,
      "outputs": []
    },
    {
      "cell_type": "code",
      "metadata": {
        "id": "aCxhqubmqLJf",
        "colab_type": "code",
        "colab": {}
      },
      "source": [
        "def clean(s):\n",
        "    s = str(s)        # Converting to string\n",
        "    s = s.lower()     # Normalizing text by converting everything to lower case\n",
        "    \n",
        "    # Removing characters that are non-alphanumeric\n",
        "    s = re.sub('https://t.co/\\w+', ' ',s)\n",
        "    s = re.sub('\\s\\W',' ',s) # Replacing one whitespace followed by one non-alphanumeric character with ' '\n",
        "    s = re.sub('\\W,\\s', ' ', s) # Replacing one non-alphanumeric character  followed by comma and one whitespace with ' '\n",
        "    s = re.sub(\"\\d+\",' ',s)     # Removing 1 or more digits\n",
        "    s = re.sub('\\s+', ' ', s)   # Removing 1 or more spaces from the text\n",
        "    s = re.sub('[!#?$@_%]', ' ', s) # Removing !, @, #, $, _ from the string\n",
        "    s = s.replace(',', ' ')\n",
        "    s = s.replace('[\\W*]', ' ')\n",
        "    return s"
      ],
      "execution_count": null,
      "outputs": []
    },
    {
      "cell_type": "code",
      "metadata": {
        "id": "ykchOH6MqLJi",
        "colab_type": "code",
        "colab": {}
      },
      "source": [
        "df['text_normalized'] = [clean(text) for text in df['text']]\n",
        "df['desc_normalized'] = [clean(desc) for desc in df['description']]"
      ],
      "execution_count": null,
      "outputs": []
    },
    {
      "cell_type": "code",
      "metadata": {
        "id": "6ET4CAhGqLJl",
        "colab_type": "code",
        "colab": {
          "base_uri": "https://localhost:8080/",
          "height": 272
        },
        "outputId": "93bf12a5-6bf9-4925-f168-152f5c163ad6"
      },
      "source": [
        "pd.options.display.max_rows\n",
        "pd.set_option('display.max_colwidth', -1)\n",
        "\n",
        "df['text_normalized']"
      ],
      "execution_count": null,
      "outputs": [
        {
          "output_type": "stream",
          "text": [
            "/usr/local/lib/python3.6/dist-packages/ipykernel_launcher.py:2: FutureWarning: Passing a negative integer is deprecated in version 1.0 and will not be supported in future version. Instead, use None to not limit the column width.\n",
            "  \n"
          ],
          "name": "stderr"
        },
        {
          "output_type": "execute_result",
          "data": {
            "text/plain": [
              "0        robbie e responds to critics after win against eddie edwards in the worldtitleseries                             \n",
              "1        ûïit felt like they were my friends and i was living the story with themû retired ian                         \n",
              "2        i absolutely adore when louis starts the songs it hits me hard but it feels good                                 \n",
              "3        hi jordanspieth looking at the url do you use ifttt   don't typically see an advanced user on the pgatour        \n",
              "4        watching neighbours on sky+ catching up with the neighbs   xxx  ù÷ä ù÷ä ù÷ä ùôî ùè ùô ùè xxx                  \n",
              "                                                      ...                                                                 \n",
              "20045     lookupondeath ..fine  and i'll drink tea too. i love you.                                                       \n",
              "20046    greg hardy you a good player and all but don't get in the face of dez bryant. learn your place mane.             \n",
              "20047    you can miss people and still never want to see them again                                                       \n",
              "20048     bitemyapp i had noticed your tendency to pee on the carpet  but i didn't want to say anything p                 \n",
              "20049    i think for my apush creative project i'm going to bring bacon to class and eat it to represent bacon's rebellion\n",
              "Name: text_normalized, Length: 20050, dtype: object"
            ]
          },
          "metadata": {
            "tags": []
          },
          "execution_count": 25
        }
      ]
    },
    {
      "cell_type": "code",
      "metadata": {
        "id": "E7u2vW5VqLJp",
        "colab_type": "code",
        "colab": {
          "base_uri": "https://localhost:8080/",
          "height": 34
        },
        "outputId": "49db4b15-0549-4336-8815-ef8e815c7d42"
      },
      "source": [
        "df[df['link_color'].str.contains('E\\+') == True]['link_color'].shape"
      ],
      "execution_count": null,
      "outputs": [
        {
          "output_type": "execute_result",
          "data": {
            "text/plain": [
              "(34,)"
            ]
          },
          "metadata": {
            "tags": []
          },
          "execution_count": 26
        }
      ]
    },
    {
      "cell_type": "code",
      "metadata": {
        "id": "AlbI65m4qLJr",
        "colab_type": "code",
        "colab": {}
      },
      "source": [
        "# Putting all the interesting text together, \n",
        "# i.e. the profile description and the tweets itself in one string for each user\n",
        "dfText = df\n",
        "dfText['all_text'] =dfText['text_normalized'].str.cat(dfText['desc_normalized'],sep=' ')\n",
        "\n",
        "# Selecting rows where the confidence in gender is 1 and gender categories are female, male and brand\n",
        "# Since link_Color column contains values like 2.21E+09. Hence eliminating such values\n",
        "dfText = dfText[(dfText['gender:confidence']==1)&(dfText['gender']!='unknown')]#&(dfText['link_color'].str.contains('E\\+') != True)]\n"
      ],
      "execution_count": null,
      "outputs": []
    },
    {
      "cell_type": "code",
      "metadata": {
        "id": "JuBJ_B7LqLJu",
        "colab_type": "code",
        "colab": {
          "base_uri": "https://localhost:8080/",
          "height": 34
        },
        "outputId": "967b56ff-d6ba-43f2-dd27-251f4f3917cc"
      },
      "source": [
        "dfText.shape"
      ],
      "execution_count": null,
      "outputs": [
        {
          "output_type": "execute_result",
          "data": {
            "text/plain": [
              "(13804, 29)"
            ]
          },
          "metadata": {
            "tags": []
          },
          "execution_count": 28
        }
      ]
    },
    {
      "cell_type": "code",
      "metadata": {
        "id": "hGCbsgEnqLJx",
        "colab_type": "code",
        "colab": {}
      },
      "source": [
        "male = dfText[dfText['gender'] == 'male']\n",
        "female = dfText[dfText['gender'] == 'female']\n",
        "brand = dfText[dfText['gender'] == 'brand']"
      ],
      "execution_count": null,
      "outputs": []
    },
    {
      "cell_type": "markdown",
      "metadata": {
        "id": "2GC8KaAdqLJ0",
        "colab_type": "text"
      },
      "source": [
        "### Tokenization"
      ]
    },
    {
      "cell_type": "markdown",
      "metadata": {
        "id": "szgJbvkbqLJ0",
        "colab_type": "text"
      },
      "source": [
        "To visualize the most frequent words used by each category of gender, it is necessary to tokenize the cleaned text. For the tokenization task, I will use CountVectorizer in order to create bag of words. Also, I will remove stopwords and unicodes from the bag of words in order to get some words which makes sense."
      ]
    },
    {
      "cell_type": "code",
      "metadata": {
        "id": "hBOCEXGtqLJ1",
        "colab_type": "code",
        "colab": {}
      },
      "source": [
        "from sklearn.feature_extraction.text import CountVectorizer"
      ],
      "execution_count": null,
      "outputs": []
    },
    {
      "cell_type": "code",
      "metadata": {
        "id": "UVgSTa5BqLJ4",
        "colab_type": "code",
        "colab": {}
      },
      "source": [
        "cvec = CountVectorizer(stop_words='english', strip_accents = 'unicode')"
      ],
      "execution_count": null,
      "outputs": []
    },
    {
      "cell_type": "code",
      "metadata": {
        "id": "Y_Nw2tK6qLJ6",
        "colab_type": "code",
        "colab": {
          "base_uri": "https://localhost:8080/",
          "height": 34
        },
        "outputId": "6d756457-1401-4d16-9b61-4fb6b5c3be77"
      },
      "source": [
        "male.shape"
      ],
      "execution_count": null,
      "outputs": [
        {
          "output_type": "execute_result",
          "data": {
            "text/plain": [
              "(4653, 29)"
            ]
          },
          "metadata": {
            "tags": []
          },
          "execution_count": 32
        }
      ]
    },
    {
      "cell_type": "markdown",
      "metadata": {
        "id": "DqrksnygqLJ9",
        "colab_type": "text"
      },
      "source": [
        "### Gender: Male"
      ]
    },
    {
      "cell_type": "markdown",
      "metadata": {
        "id": "YWql4l2qqLJ-",
        "colab_type": "text"
      },
      "source": [
        "#### Plotting the graph of the most frequent words used by Male gender based on the all_text"
      ]
    },
    {
      "cell_type": "code",
      "metadata": {
        "id": "HnI9JGSlqLJ-",
        "colab_type": "code",
        "colab": {
          "base_uri": "https://localhost:8080/",
          "height": 298
        },
        "outputId": "1f4e107a-0266-43f1-cf63-5e8df059a528"
      },
      "source": [
        "cvec.fit(male['all_text'])\n",
        "\n",
        "male_df = pd.DataFrame(cvec.transform(male['all_text']).todense(),\n",
        "                      columns = cvec.get_feature_names())\n",
        "male_word_counts = male_df.sum(axis=0)\n",
        "male_word_counts.sort_values(ascending=False).head(20)\n",
        "male_word_counts.sort_values(ascending= False).head(10).plot(kind = 'barh', \n",
        "                                                             title = 'Most Frequent words used by Male users based on the texts combined from tweets and description of users',color= 'blue')"
      ],
      "execution_count": null,
      "outputs": [
        {
          "output_type": "execute_result",
          "data": {
            "text/plain": [
              "<matplotlib.axes._subplots.AxesSubplot at 0x7f72999ad470>"
            ]
          },
          "metadata": {
            "tags": []
          },
          "execution_count": 33
        },
        {
          "output_type": "display_data",
          "data": {
            "image/png": "[encoded data removed]",
            "text/plain": [
              "<Figure size 432x288 with 1 Axes>"
            ]
          },
          "metadata": {
            "tags": [],
            "needs_background": "light"
          }
        }
      ]
    },
    {
      "cell_type": "markdown",
      "metadata": {
        "id": "AGVBFL2-qLKB",
        "colab_type": "text"
      },
      "source": [
        "#### Plotting the graph of the most frequent words used by Male gender based on the profile description of the user"
      ]
    },
    {
      "cell_type": "code",
      "metadata": {
        "id": "2UpSQUWZqLKC",
        "colab_type": "code",
        "colab": {
          "base_uri": "https://localhost:8080/",
          "height": 298
        },
        "outputId": "a239079f-5f8c-4d1e-b69e-2252b150f4c9"
      },
      "source": [
        "\n",
        "male_df_desc = pd.DataFrame(cvec.transform(male['desc_normalized']).todense(),\n",
        "                      columns = cvec.get_feature_names())\n",
        "male_word_counts_desc = male_df_desc.sum(axis=0)\n",
        "male_word_counts_desc.sort_values(ascending=False).head(20)\n",
        "male_word_counts_desc.sort_values(ascending= False).head(10).plot(kind = 'barh', \n",
        "                                                             title = 'Most Frequent words used by Male users based on the profile description', color = 'blue')"
      ],
      "execution_count": null,
      "outputs": [
        {
          "output_type": "execute_result",
          "data": {
            "text/plain": [
              "<matplotlib.axes._subplots.AxesSubplot at 0x7f7299971710>"
            ]
          },
          "metadata": {
            "tags": []
          },
          "execution_count": 34
        },
        {
          "output_type": "display_data",
          "data": {
            "image/png": "[encoded data removed]",
            "text/plain": [
              "<Figure size 432x288 with 1 Axes>"
            ]
          },
          "metadata": {
            "tags": [],
            "needs_background": "light"
          }
        }
      ]
    },
    {
      "cell_type": "markdown",
      "metadata": {
        "id": "xyGZM_BPqLKF",
        "colab_type": "text"
      },
      "source": [
        "#### Plotting the graph of the most frequent words used by Male gender based on the tweets posted by the user"
      ]
    },
    {
      "cell_type": "code",
      "metadata": {
        "id": "ZWr5kBtRqLKG",
        "colab_type": "code",
        "colab": {
          "base_uri": "https://localhost:8080/",
          "height": 298
        },
        "outputId": "570e6905-8c77-4e0e-9136-b4e749ec6cd0"
      },
      "source": [
        "cvec.fit(male['text_normalized'])\n",
        "\n",
        "male_df_text = pd.DataFrame(cvec.transform(male['text_normalized']).todense(),\n",
        "                      columns = cvec.get_feature_names())\n",
        "male_word_counts_text = male_df_text.sum(axis=0)\n",
        "male_word_counts_text.sort_values(ascending=False).head(20)\n",
        "male_word_counts_text.sort_values(ascending= False).head(10).plot(kind = 'barh', \n",
        "                                                             title = 'Most Frequent words used by Male users based on the tweets posted by the user', color = 'blue')"
      ],
      "execution_count": null,
      "outputs": [
        {
          "output_type": "execute_result",
          "data": {
            "text/plain": [
              "<matplotlib.axes._subplots.AxesSubplot at 0x7f72996c4ac8>"
            ]
          },
          "metadata": {
            "tags": []
          },
          "execution_count": 35
        },
        {
          "output_type": "display_data",
          "data": {
            "image/png": "[encoded data removed]",
            "text/plain": [
              "<Figure size 432x288 with 1 Axes>"
            ]
          },
          "metadata": {
            "tags": [],
            "needs_background": "light"
          }
        }
      ]
    },
    {
      "cell_type": "markdown",
      "metadata": {
        "id": "5j5jdDJZqLKI",
        "colab_type": "text"
      },
      "source": [
        "### Gender: Female"
      ]
    },
    {
      "cell_type": "markdown",
      "metadata": {
        "id": "ItXh-bMmqLKJ",
        "colab_type": "text"
      },
      "source": [
        "#### Plotting the graph of the most frequent words used by Female gender based on the all_text"
      ]
    },
    {
      "cell_type": "code",
      "metadata": {
        "id": "AtBlJrTTqLKJ",
        "colab_type": "code",
        "colab": {
          "base_uri": "https://localhost:8080/",
          "height": 298
        },
        "outputId": "b87ab04b-fc1d-4550-fb38-ce3510b6cf0a"
      },
      "source": [
        "cvec.fit(female['all_text'])\n",
        "\n",
        "female_df = pd.DataFrame(cvec.transform(female['all_text']).todense(),\n",
        "                      columns = cvec.get_feature_names())\n",
        "female_word_counts = female_df.sum(axis=0)\n",
        "female_word_counts.sort_values(ascending=False).head(20)\n",
        "female_word_counts.sort_values(ascending= False).head(10).plot(kind = 'barh', \n",
        "                                                             title = 'Most Frequent words used by Female users based on the texts combined from tweets and description of users', color = 'pink')"
      ],
      "execution_count": null,
      "outputs": [
        {
          "output_type": "execute_result",
          "data": {
            "text/plain": [
              "<matplotlib.axes._subplots.AxesSubplot at 0x7f7299555940>"
            ]
          },
          "metadata": {
            "tags": []
          },
          "execution_count": 36
        },
        {
          "output_type": "display_data",
          "data": {
            "image/png": "[encoded data removed]",
            "text/plain": [
              "<Figure size 432x288 with 1 Axes>"
            ]
          },
          "metadata": {
            "tags": [],
            "needs_background": "light"
          }
        }
      ]
    },
    {
      "cell_type": "markdown",
      "metadata": {
        "id": "15ps7-xzqLKM",
        "colab_type": "text"
      },
      "source": [
        "#### Plotting the graph of the most frequent words used by Female gender based on the profile description of the user"
      ]
    },
    {
      "cell_type": "code",
      "metadata": {
        "id": "zo8MNy7BqLKM",
        "colab_type": "code",
        "colab": {
          "base_uri": "https://localhost:8080/",
          "height": 298
        },
        "outputId": "1e112492-08d4-41af-86d4-47129e52a001"
      },
      "source": [
        "cvec.fit(female['desc_normalized'])\n",
        "\n",
        "female_df_desc = pd.DataFrame(cvec.transform(female['desc_normalized']).todense(),\n",
        "                      columns = cvec.get_feature_names())\n",
        "female_word_counts_desc = female_df_desc.sum(axis=0)\n",
        "female_word_counts_desc.sort_values(ascending=False).head(20)\n",
        "female_word_counts_desc.sort_values(ascending= False).head(10).plot(kind = 'barh', \n",
        "                                                             title = 'Most Frequent words used by Female users based on the profile description of the users', color = 'pink')"
      ],
      "execution_count": null,
      "outputs": [
        {
          "output_type": "execute_result",
          "data": {
            "text/plain": [
              "<matplotlib.axes._subplots.AxesSubplot at 0x7f72996a12e8>"
            ]
          },
          "metadata": {
            "tags": []
          },
          "execution_count": 37
        },
        {
          "output_type": "display_data",
          "data": {
            "image/png": "[encoded data removed]",
            "text/plain": [
              "<Figure size 432x288 with 1 Axes>"
            ]
          },
          "metadata": {
            "tags": [],
            "needs_background": "light"
          }
        }
      ]
    },
    {
      "cell_type": "markdown",
      "metadata": {
        "id": "mp3nCa_3qLKQ",
        "colab_type": "text"
      },
      "source": [
        "#### Plotting the graph of the most frequent words used by Female gender based on the tweets posted by the user"
      ]
    },
    {
      "cell_type": "code",
      "metadata": {
        "id": "RAplnNdsqLKR",
        "colab_type": "code",
        "colab": {
          "base_uri": "https://localhost:8080/",
          "height": 298
        },
        "outputId": "bdd505a8-728e-4664-c1fe-b37b628f8962"
      },
      "source": [
        "cvec.fit(female['text_normalized'])\n",
        "\n",
        "female_df_text = pd.DataFrame(cvec.transform(female['text_normalized']).todense(),\n",
        "                      columns = cvec.get_feature_names())\n",
        "female_word_counts_text = female_df_text.sum(axis=0)\n",
        "female_word_counts_text.sort_values(ascending=False).head(20)\n",
        "female_word_counts_text.sort_values(ascending= False).head(10).plot(kind = 'barh', \n",
        "                                                             title = 'Most Frequent words used by Female users based on the tweets posted by the user', color= 'pink')"
      ],
      "execution_count": null,
      "outputs": [
        {
          "output_type": "execute_result",
          "data": {
            "text/plain": [
              "<matplotlib.axes._subplots.AxesSubplot at 0x7f7299915438>"
            ]
          },
          "metadata": {
            "tags": []
          },
          "execution_count": 38
        },
        {
          "output_type": "display_data",
          "data": {
            "image/png": "[encoded data removed]",
            "text/plain": [
              "<Figure size 432x288 with 1 Axes>"
            ]
          },
          "metadata": {
            "tags": [],
            "needs_background": "light"
          }
        }
      ]
    },
    {
      "cell_type": "markdown",
      "metadata": {
        "id": "1l2Lr1voqLKV",
        "colab_type": "text"
      },
      "source": [
        "### Gender: Brand"
      ]
    },
    {
      "cell_type": "markdown",
      "metadata": {
        "id": "2ZBvdqAcqLKV",
        "colab_type": "text"
      },
      "source": [
        "#### Plotting the graph of the most frequent words used by Brand based on the all_text"
      ]
    },
    {
      "cell_type": "code",
      "metadata": {
        "id": "xM2oj_J3qLKW",
        "colab_type": "code",
        "colab": {
          "base_uri": "https://localhost:8080/",
          "height": 298
        },
        "outputId": "b164821d-0b3d-45a2-faa6-5f77e1b840a3"
      },
      "source": [
        "cvec.fit(brand['all_text'])\n",
        "\n",
        "brand_df = pd.DataFrame(cvec.transform(brand['all_text']).todense(),\n",
        "                      columns = cvec.get_feature_names())\n",
        "brand_word_counts = brand_df.sum(axis=0)\n",
        "brand_word_counts.sort_values(ascending=False).head(20)\n",
        "brand_word_counts.sort_values(ascending= False).head(10).plot(kind = 'barh', \n",
        "                                                             title = 'Most Frequent words used by Brands based on the texts combined from tweets and description of users', color = 'red')"
      ],
      "execution_count": null,
      "outputs": [
        {
          "output_type": "execute_result",
          "data": {
            "text/plain": [
              "<matplotlib.axes._subplots.AxesSubplot at 0x7f72991d8358>"
            ]
          },
          "metadata": {
            "tags": []
          },
          "execution_count": 39
        },
        {
          "output_type": "display_data",
          "data": {
            "image/png": "[encoded data removed]",
            "text/plain": [
              "<Figure size 432x288 with 1 Axes>"
            ]
          },
          "metadata": {
            "tags": [],
            "needs_background": "light"
          }
        }
      ]
    },
    {
      "cell_type": "code",
      "metadata": {
        "id": "RzwYv8ORqLKa",
        "colab_type": "code",
        "colab": {
          "base_uri": "https://localhost:8080/",
          "height": 298
        },
        "outputId": "3d85888b-1d24-4e57-ed63-4db8a4309f33"
      },
      "source": [
        "cvec.fit(brand['desc_normalized'])\n",
        "\n",
        "brand_df_desc = pd.DataFrame(cvec.transform(brand['desc_normalized']).todense(),\n",
        "                      columns = cvec.get_feature_names())\n",
        "brand_word_counts_desc = brand_df_desc.sum(axis=0)\n",
        "brand_word_counts_desc.sort_values(ascending=False).head(20)\n",
        "brand_word_counts_desc.sort_values(ascending= False).head(10).plot(kind = 'barh', \n",
        "                                                             title = 'Most Frequent words used by Brands based on the texts collected from profile description of users', color = 'red')"
      ],
      "execution_count": null,
      "outputs": [
        {
          "output_type": "execute_result",
          "data": {
            "text/plain": [
              "<matplotlib.axes._subplots.AxesSubplot at 0x7f72992f6390>"
            ]
          },
          "metadata": {
            "tags": []
          },
          "execution_count": 40
        },
        {
          "output_type": "display_data",
          "data": {
            "image/png": "[encoded data removed]",
            "text/plain": [
              "<Figure size 432x288 with 1 Axes>"
            ]
          },
          "metadata": {
            "tags": [],
            "needs_background": "light"
          }
        }
      ]
    },
    {
      "cell_type": "code",
      "metadata": {
        "id": "okMW1zEfqLKe",
        "colab_type": "code",
        "colab": {
          "base_uri": "https://localhost:8080/",
          "height": 298
        },
        "outputId": "0cb788bd-55a4-4b23-c67c-04480c67d69c"
      },
      "source": [
        "cvec.fit(brand['text_normalized'])\n",
        "\n",
        "brand_df_text = pd.DataFrame(cvec.transform(brand['text_normalized']).todense(),\n",
        "                      columns = cvec.get_feature_names())\n",
        "brand_word_counts_text = brand_df_text.sum(axis=0)\n",
        "brand_word_counts_text.sort_values(ascending=False).head(20)\n",
        "brand_word_counts_text.sort_values(ascending= False).head(10).plot(kind = 'barh', \n",
        "                                                             title = 'Most Frequent words used by Brands based on the tweets posted', color= 'red')"
      ],
      "execution_count": null,
      "outputs": [
        {
          "output_type": "execute_result",
          "data": {
            "text/plain": [
              "<matplotlib.axes._subplots.AxesSubplot at 0x7f7298fc95c0>"
            ]
          },
          "metadata": {
            "tags": []
          },
          "execution_count": 41
        },
        {
          "output_type": "display_data",
          "data": {
            "image/png": "[encoded data removed]",
            "text/plain": [
              "<Figure size 432x288 with 1 Axes>"
            ]
          },
          "metadata": {
            "tags": [],
            "needs_background": "light"
          }
        }
      ]
    },
    {
      "cell_type": "markdown",
      "metadata": {
        "id": "29iF6yVfqLKi",
        "colab_type": "text"
      },
      "source": [
        "<b>Observations:</b>"
      ]
    },
    {
      "cell_type": "markdown",
      "metadata": {
        "id": "Qy4woIwgqLKi",
        "colab_type": "text"
      },
      "source": [
        "<ol>\n",
        "<li>The results from the text features exploration are not quite conclusive when compared with results obtained from the colors features exploration.</li>\n",
        "<li>Most used words used by male and female gender, are very similar words such as \"just\", \"like\", \"love\" which this does not give us any information about the gender really.</li>\n",
        "<li>Brands tends to use the words \"weather\", \"channel\" and \"news\" more than regular male and female users. This means that we have probably many information or weather channels accounts in our dataset. Also, the usage of the word \"http\" decribes that brands tend to post more links than standard users.</li>\n",
        "</ol>"
      ]
    },
    {
      "cell_type": "markdown",
      "metadata": {
        "id": "t25lR_CN96J3",
        "colab_type": "text"
      },
      "source": [
        "###***Two Questions About Dataset***"
      ]
    },
    {
      "cell_type": "markdown",
      "metadata": {
        "id": "DszEi_frqLKj",
        "colab_type": "text"
      },
      "source": [
        "<b> So, at the end of this section we are able to answer few questions on our dataset. For instance:</b><hr>\n",
        "    \n",
        "       1. What are the most used words by each gender category on the tweets posted?\n",
        "        Males:\n",
        "            1. just\n",
        "            2. like\n",
        "            3. don't\n",
        "        \n",
        "        Females:\n",
        "            1. just\n",
        "            2. like\n",
        "            3. love\n",
        "        \n",
        "        Brands:\n",
        "            1. weather\n",
        "            2. channel\n",
        "            3. updates\n",
        "        \n",
        "        2. Which color is most used for links and sidebars by each gender category?\n",
        "        Links:\n",
        "            1. Male - Olive\n",
        "            2. Female - Amethyst\n",
        "            3. Brand - Curoius Blue\n",
        "        \n",
        "        Sidebars:\n",
        "            1. Male - Woodsmoke\n",
        "            2. Female - Tradewind\n",
        "            3. Brand - Algae Green\n",
        "  "
      ]
    },
    {
      "cell_type": "markdown",
      "metadata": {
        "id": "cdAq5RoYqLKk",
        "colab_type": "text"
      },
      "source": [
        "## Data Modeling"
      ]
    },
    {
      "cell_type": "markdown",
      "metadata": {
        "id": "bvAjxPE_qLKk",
        "colab_type": "text"
      },
      "source": [
        "We will use machine learning algorithms to predict the user's gender based on color features and text features. For the data modelling phase of the project, we will perform below steps:"
      ]
    },
    {
      "cell_type": "markdown",
      "metadata": {
        "id": "ruhv11jXqLKk",
        "colab_type": "text"
      },
      "source": [
        "<ol>\n",
        "    <li>Creating dummy variables for gender attribute in the dataset.</li>\n",
        "    <li>Splitting data into training and test set by using 70:30</li>\n",
        "    <li>I will run following models on the training data and predicting on the test data</li><ul>\n",
        "    <li>SVC()</li>\n",
        "    <li>KNeighborsClassifier()</li>\n",
        "    <li>RandomForestClassifier()</li>\n",
        "    <li>LogisticRegression()</li>\n",
        "    <li>MultinomialNB()</li>\n",
        "    </ul>\n",
        "<li>Evaluate model based on Accuracy.</li>\n",
        "</ol>"
      ]
    },
    {
      "cell_type": "code",
      "metadata": {
        "id": "XTLbin64qLKl",
        "colab_type": "code",
        "colab": {}
      },
      "source": [
        "from sklearn import linear_model, metrics\n",
        "from sklearn import naive_bayes\n",
        "from sklearn.ensemble import RandomForestClassifier\n",
        "from sklearn.neighbors import KNeighborsClassifier\n",
        "from sklearn.svm import SVC"
      ],
      "execution_count": null,
      "outputs": []
    },
    {
      "cell_type": "code",
      "metadata": {
        "id": "fXYUMNnRqLKo",
        "colab_type": "code",
        "colab": {}
      },
      "source": [
        "# following models will be used to train our dataset\n",
        "models = [linear_model.LogisticRegression(),\n",
        "          KNeighborsClassifier(),\n",
        "          SVC()]"
      ],
      "execution_count": null,
      "outputs": []
    },
    {
      "cell_type": "code",
      "metadata": {
        "id": "XgFE98CjqLKq",
        "colab_type": "code",
        "colab": {}
      },
      "source": [
        "# eval_model function trains the classifier using training dataset, predicts on test set and returns accuracy for the model on the test.\n",
        "def eval_model(model):E\n",
        "    model.fit(x_train, y_train)\n",
        "    y_pred = model.predict(x_test)\n",
        "    acc = model.score(x_test,y_test)\n",
        "    return acc"
      ],
      "execution_count": null,
      "outputs": []
    },
    {
      "cell_type": "code",
      "metadata": {
        "id": "lt0otpBpqLKs",
        "colab_type": "code",
        "colab": {}
      },
      "source": [
        "# Defining a function for tokenization where I am removing the stopwords and unicodes from the tokens\n",
        "def bag_of_words_cal(text):\n",
        "    vectorizer = CountVectorizer(stop_words='english',\n",
        "                                  strip_accents = 'unicode')\n",
        "    vectors = vectorizer.fit_transform(text)\n",
        "    #vocabulary = vectorizer.get_feature_names()\n",
        "    return vectors#, vocabulary"
      ],
      "execution_count": null,
      "outputs": []
    },
    {
      "cell_type": "markdown",
      "metadata": {
        "id": "Jt9hpT9cqLKx",
        "colab_type": "text"
      },
      "source": [
        "### A. Evaluating the relationship between link_color and user's gender"
      ]
    },
    {
      "cell_type": "code",
      "metadata": {
        "id": "mpbEtTEFqLKx",
        "colab_type": "code",
        "colab": {}
      },
      "source": [
        "from sklearn import linear_model, metrics\n",
        "from sklearn import naive_bayes\n",
        "from sklearn.pipeline import make_pipeline\n",
        "from sklearn.preprocessing import LabelEncoder\n",
        "from sklearn.model_selection import train_test_split\n",
        "\n",
        "# Using feature link_color as we saw from the visualizations that users tend to change link_color more than the sidebar color\n",
        "df_col = df.loc[:, ['gender:confidence', 'gender', 'link_color']]#, 'sidebar_color']]\n",
        "\n",
        "# Selecting rows where gender:confidence >= 1 and removing values like 7.60E+42\n",
        "dfcolFiltered = df_col[(df_col['gender:confidence'] >= 1) & ((df_col['link_color']).str.contains('E\\+') != True)]\n",
        "\n",
        "bow = bag_of_words_cal(dfcolFiltered['link_color'])\n",
        "X = bow\n",
        " \n",
        "y = LabelEncoder().fit_transform(dfcolFiltered['gender'])\n",
        "\n",
        "# Listing the classifiers I want to test the data on"
      ],
      "execution_count": null,
      "outputs": []
    },
    {
      "cell_type": "code",
      "metadata": {
        "id": "uznndYpRqLKz",
        "colab_type": "code",
        "colab": {
          "base_uri": "https://localhost:8080/",
          "height": 34
        },
        "outputId": "43d8997e-39c5-4a21-9da7-efdab36360db"
      },
      "source": [
        "X.shape"
      ],
      "execution_count": null,
      "outputs": [
        {
          "output_type": "execute_result",
          "data": {
            "text/plain": [
              "(13900, 2290)"
            ]
          },
          "metadata": {
            "tags": []
          },
          "execution_count": 47
        }
      ]
    },
    {
      "cell_type": "code",
      "metadata": {
        "id": "AJKkpiZ0qLK2",
        "colab_type": "code",
        "colab": {}
      },
      "source": [
        "x_train, x_test, y_train, y_test = train_test_split(X, y,\n",
        "                                                    test_size=0.3,\n",
        "                                                    stratify = y,\n",
        "                                                    random_state = 123)"
      ],
      "execution_count": null,
      "outputs": []
    },
    {
      "cell_type": "code",
      "metadata": {
        "id": "q2JTS9E4qLK6",
        "colab_type": "code",
        "colab": {
          "base_uri": "https://localhost:8080/",
          "height": 84
        },
        "outputId": "9c0e9d50-0924-4288-ee84-cc590b73b712"
      },
      "source": [
        "print(x_train.shape)\n",
        "print(x_test.shape)\n",
        "print(y_train.shape)\n",
        "print(y_test.shape)"
      ],
      "execution_count": null,
      "outputs": [
        {
          "output_type": "stream",
          "text": [
            "(9730, 2290)\n",
            "(4170, 2290)\n",
            "(9730,)\n",
            "(4170,)\n"
          ],
          "name": "stdout"
        }
      ]
    },
    {
      "cell_type": "markdown",
      "metadata": {
        "id": "ITHwXmeIqLK9",
        "colab_type": "text"
      },
      "source": [
        "#### Baseline Model - link_color"
      ]
    },
    {
      "cell_type": "markdown",
      "metadata": {
        "id": "WcMIHEA_qLK9",
        "colab_type": "text"
      },
      "source": [
        "Calculating the baseline model by predicting the most frequently occuring gender class in the dataset."
      ]
    },
    {
      "cell_type": "code",
      "metadata": {
        "id": "2XTqwYGkCzoX",
        "colab_type": "code",
        "colab": {
          "base_uri": "https://localhost:8080/",
          "height": 222
        },
        "outputId": "fba454db-bbbe-41b8-a754-30ada488895e"
      },
      "source": [
        "!pip install cytoolz"
      ],
      "execution_count": null,
      "outputs": [
        {
          "output_type": "stream",
          "text": [
            "Collecting cytoolz\n",
            "\u001b[?25l  Downloading https://files.pythonhosted.org/packages/62/b1/7f16703fe4a497879b1b457adf1e472fad2d4f030477698b16d2febf38bb/cytoolz-0.10.1.tar.gz (475kB)\n",
            "\r\u001b[K     |▊                               | 10kB 22.6MB/s eta 0:00:01\r\u001b[K     |█▍                              | 20kB 5.6MB/s eta 0:00:01\r\u001b[K     |██                              | 30kB 6.9MB/s eta 0:00:01\r\u001b[K     |██▊                             | 40kB 7.6MB/s eta 0:00:01\r\u001b[K     |███▌                            | 51kB 6.1MB/s eta 0:00:01\r\u001b[K     |████▏                           | 61kB 6.8MB/s eta 0:00:01\r\u001b[K     |████▉                           | 71kB 7.3MB/s eta 0:00:01\r\u001b[K     |█████▌                          | 81kB 7.9MB/s eta 0:00:01\r\u001b[K     |██████▏                         | 92kB 8.2MB/s eta 0:00:01\r\u001b[K     |███████                         | 102kB 8.5MB/s eta 0:00:01\r\u001b[K     |███████▋                        | 112kB 8.5MB/s eta 0:00:01\r\u001b[K     |████████▎                       | 122kB 8.5MB/s eta 0:00:01\r\u001b[K     |█████████                       | 133kB 8.5MB/s eta 0:00:01\r\u001b[K     |█████████▋                      | 143kB 8.5MB/s eta 0:00:01\r\u001b[K     |██████████▍                     | 153kB 8.5MB/s eta 0:00:01\r\u001b[K     |███████████                     | 163kB 8.5MB/s eta 0:00:01\r\u001b[K     |███████████▊                    | 174kB 8.5MB/s eta 0:00:01\r\u001b[K     |████████████▍                   | 184kB 8.5MB/s eta 0:00:01\r\u001b[K     |█████████████                   | 194kB 8.5MB/s eta 0:00:01\r\u001b[K     |█████████████▉                  | 204kB 8.5MB/s eta 0:00:01\r\u001b[K     |██████████████▌                 | 215kB 8.5MB/s eta 0:00:01\r\u001b[K     |███████████████▏                | 225kB 8.5MB/s eta 0:00:01\r\u001b[K     |███████████████▉                | 235kB 8.5MB/s eta 0:00:01\r\u001b[K     |████████████████▌               | 245kB 8.5MB/s eta 0:00:01\r\u001b[K     |█████████████████▎              | 256kB 8.5MB/s eta 0:00:01\r\u001b[K     |██████████████████              | 266kB 8.5MB/s eta 0:00:01\r\u001b[K     |██████████████████▋             | 276kB 8.5MB/s eta 0:00:01\r\u001b[K     |███████████████████▎            | 286kB 8.5MB/s eta 0:00:01\r\u001b[K     |████████████████████            | 296kB 8.5MB/s eta 0:00:01\r\u001b[K     |████████████████████▊           | 307kB 8.5MB/s eta 0:00:01\r\u001b[K     |█████████████████████▍          | 317kB 8.5MB/s eta 0:00:01\r\u001b[K     |██████████████████████          | 327kB 8.5MB/s eta 0:00:01\r\u001b[K     |██████████████████████▊         | 337kB 8.5MB/s eta 0:00:01\r\u001b[K     |███████████████████████▍        | 348kB 8.5MB/s eta 0:00:01\r\u001b[K     |████████████████████████▏       | 358kB 8.5MB/s eta 0:00:01\r\u001b[K     |████████████████████████▉       | 368kB 8.5MB/s eta 0:00:01\r\u001b[K     |█████████████████████████▌      | 378kB 8.5MB/s eta 0:00:01\r\u001b[K     |██████████████████████████▏     | 389kB 8.5MB/s eta 0:00:01\r\u001b[K     |██████████████████████████▉     | 399kB 8.5MB/s eta 0:00:01\r\u001b[K     |███████████████████████████▋    | 409kB 8.5MB/s eta 0:00:01\r\u001b[K     |████████████████████████████▎   | 419kB 8.5MB/s eta 0:00:01\r\u001b[K     |█████████████████████████████   | 430kB 8.5MB/s eta 0:00:01\r\u001b[K     |█████████████████████████████▋  | 440kB 8.5MB/s eta 0:00:01\r\u001b[K     |██████████████████████████████▎ | 450kB 8.5MB/s eta 0:00:01\r\u001b[K     |███████████████████████████████ | 460kB 8.5MB/s eta 0:00:01\r\u001b[K     |███████████████████████████████▊| 471kB 8.5MB/s eta 0:00:01\r\u001b[K     |████████████████████████████████| 481kB 8.5MB/s \n",
            "\u001b[?25hRequirement already satisfied: toolz>=0.8.0 in /usr/local/lib/python3.6/dist-packages (from cytoolz) (0.10.0)\n",
            "Building wheels for collected packages: cytoolz\n",
            "  Building wheel for cytoolz (setup.py) ... \u001b[?25l\u001b[?25hdone\n",
            "  Created wheel for cytoolz: filename=cytoolz-0.10.1-cp36-cp36m-linux_x86_64.whl size=1232786 sha256=574c14cfa97c7bae4fbbfc824d819b8f9874631a76b33f821640a0008710cd9b\n",
            "  Stored in directory: /root/.cache/pip/wheels/64/2a/18/d962b614e055577e7d9a3e4813e0742f822ca9c8800cc3783a\n",
            "Successfully built cytoolz\n",
            "Installing collected packages: cytoolz\n",
            "Successfully installed cytoolz-0.10.1\n"
          ],
          "name": "stdout"
        }
      ]
    },
    {
      "cell_type": "code",
      "metadata": {
        "id": "_zupZQ_PqLK9",
        "colab_type": "code",
        "colab": {}
      },
      "source": [
        "from cytoolz import identity\n",
        "from sklearn.dummy import DummyClassifier\n",
        "from sklearn.model_selection import cross_val_score\n",
        "\n",
        "base_model = make_pipeline(CountVectorizer(analyzer=identity), DummyClassifier('most_frequent'))     \n",
        "base_score = cross_val_score(base_model,dfcolFiltered['link_color'], \n",
        "                             dfcolFiltered['gender'], cv=3, n_jobs=-1)"
      ],
      "execution_count": null,
      "outputs": []
    },
    {
      "cell_type": "code",
      "metadata": {
        "id": "tJmHnhFoqLK_",
        "colab_type": "code",
        "colab": {
          "base_uri": "https://localhost:8080/",
          "height": 34
        },
        "outputId": "8325b739-17f9-4225-94f0-e97b7ed407b7"
      },
      "source": [
        "base_score.mean()"
      ],
      "execution_count": null,
      "outputs": [
        {
          "output_type": "execute_result",
          "data": {
            "text/plain": [
              "0.38546762988913513"
            ]
          },
          "metadata": {
            "tags": []
          },
          "execution_count": 54
        }
      ]
    },
    {
      "cell_type": "markdown",
      "metadata": {
        "id": "Cfes_t71qLLC",
        "colab_type": "text"
      },
      "source": [
        "The accuracy of baseline model is 38.54%"
      ]
    },
    {
      "cell_type": "markdown",
      "metadata": {
        "id": "MlFom_AKqLLC",
        "colab_type": "text"
      },
      "source": [
        "#### Results for link_color feature"
      ]
    },
    {
      "cell_type": "code",
      "metadata": {
        "id": "IOYrPkD6qLLC",
        "colab_type": "code",
        "colab": {
          "base_uri": "https://localhost:8080/",
          "height": 171
        },
        "outputId": "96f8a68b-461d-4409-bb0a-8ec100b47428"
      },
      "source": [
        "#for ignoring future warnings\n",
        "import warnings\n",
        "warnings.filterwarnings(\"ignore\", category=FutureWarning)\n",
        "\n",
        "results_lc =  pd.Series([eval_model(model) for model in models], \n",
        "                     index = ['logit', 'knn', 'svc'])"
      ],
      "execution_count": null,
      "outputs": [
        {
          "output_type": "stream",
          "text": [
            "/usr/local/lib/python3.6/dist-packages/sklearn/linear_model/_logistic.py:940: ConvergenceWarning: lbfgs failed to converge (status=1):\n",
            "STOP: TOTAL NO. of ITERATIONS REACHED LIMIT.\n",
            "\n",
            "Increase the number of iterations (max_iter) or scale the data as shown in:\n",
            "    https://scikit-learn.org/stable/modules/preprocessing.html\n",
            "Please also refer to the documentation for alternative solver options:\n",
            "    https://scikit-learn.org/stable/modules/linear_model.html#logistic-regression\n",
            "  extra_warning_msg=_LOGISTIC_SOLVER_CONVERGENCE_MSG)\n"
          ],
          "name": "stderr"
        }
      ]
    },
    {
      "cell_type": "code",
      "metadata": {
        "id": "9dLFlb_NqLLE",
        "colab_type": "code",
        "colab": {
          "base_uri": "https://localhost:8080/",
          "height": 84
        },
        "outputId": "84bf8d4f-acf7-4d5b-9031-db61e6e72c41"
      },
      "source": [
        "print(results_lc)"
      ],
      "execution_count": null,
      "outputs": [
        {
          "output_type": "stream",
          "text": [
            "logit    0.435731\n",
            "knn      0.410552\n",
            "svc      0.436451\n",
            "dtype: float64\n"
          ],
          "name": "stdout"
        }
      ]
    },
    {
      "cell_type": "markdown",
      "metadata": {
        "id": "oxN3DC0YqLLG",
        "colab_type": "text"
      },
      "source": [
        "It seems that Logistic Regression model is performing better when link_color feature is used to predict the gender."
      ]
    },
    {
      "cell_type": "markdown",
      "metadata": {
        "id": "HJqczccBqLLG",
        "colab_type": "text"
      },
      "source": [
        "#### Plotting the bar plot for accuracies obtained for link_color feature"
      ]
    },
    {
      "cell_type": "code",
      "metadata": {
        "id": "B_3lTSIKqLLH",
        "colab_type": "code",
        "colab": {}
      },
      "source": [
        "mse_model = []\n",
        "acc_model = []\n",
        "for i in range(3):\n",
        "    acc = results_lc[i]\n",
        "    acc_model.append(acc)"
      ],
      "execution_count": null,
      "outputs": []
    },
    {
      "cell_type": "code",
      "metadata": {
        "id": "8CDRxp67qLLJ",
        "colab_type": "code",
        "colab": {
          "base_uri": "https://localhost:8080/",
          "height": 298
        },
        "outputId": "b896dbef-1a86-401c-d0de-f082d80c7189"
      },
      "source": [
        "acc_model = pd.Series(acc_model, index = ['logit', 'knn', 'svc'])\n",
        "acc_model.plot(kind = 'barh', title = 'Accuracy of the models on link_color feature')"
      ],
      "execution_count": null,
      "outputs": [
        {
          "output_type": "execute_result",
          "data": {
            "text/plain": [
              "<matplotlib.axes._subplots.AxesSubplot at 0x7f7294475a20>"
            ]
          },
          "metadata": {
            "tags": []
          },
          "execution_count": 58
        },
        {
          "output_type": "display_data",
          "data": {
            "image/png": "[encoded data removed]",
            "text/plain": [
              "<Figure size 432x288 with 1 Axes>"
            ]
          },
          "metadata": {
            "tags": [],
            "needs_background": "light"
          }
        }
      ]
    },
    {
      "cell_type": "markdown",
      "metadata": {
        "id": "sp-jls7YqLLL",
        "colab_type": "text"
      },
      "source": [
        "### B. Evaluating the relationship between sidebar_color and user's gender"
      ]
    },
    {
      "cell_type": "code",
      "metadata": {
        "id": "3X7kclFgqLLL",
        "colab_type": "code",
        "colab": {}
      },
      "source": [
        "from sklearn import linear_model, metrics\n",
        "from sklearn import naive_bayes\n",
        "from sklearn.pipeline import make_pipeline\n",
        "\n",
        "df_col = df.loc[:, ['gender:confidence', 'gender', 'sidebar_color']]\n",
        "\n",
        "# Selecting rows where gender:confidence >= 1 and removing values like 7.60E+42\n",
        "dfcolFiltered = df_col[(df_col['gender:confidence'] >= 1) & ((df_col['sidebar_color']).str.contains('E\\+') != True)]\n",
        "\n",
        "# splitting data into X and y\n",
        "\n",
        "bow = bag_of_words_cal(dfcolFiltered['sidebar_color'])\n",
        "X = bow\n",
        "\n",
        "y = LabelEncoder().fit_transform(dfcolFiltered['gender'])\n",
        "\n",
        "# Listing the classifiers I want to test the data on"
      ],
      "execution_count": null,
      "outputs": []
    },
    {
      "cell_type": "code",
      "metadata": {
        "id": "3ptaGJRrqLLN",
        "colab_type": "code",
        "colab": {
          "base_uri": "https://localhost:8080/",
          "height": 34
        },
        "outputId": "d44adafa-4eb9-4028-993e-5ea115ada876"
      },
      "source": [
        "X.shape"
      ],
      "execution_count": null,
      "outputs": [
        {
          "output_type": "execute_result",
          "data": {
            "text/plain": [
              "(13920, 473)"
            ]
          },
          "metadata": {
            "tags": []
          },
          "execution_count": 60
        }
      ]
    },
    {
      "cell_type": "code",
      "metadata": {
        "id": "Ou10tgkQqLLP",
        "colab_type": "code",
        "colab": {}
      },
      "source": [
        "x_train, x_test, y_train, y_test = train_test_split(X, y,\n",
        "                                                    test_size=0.3,\n",
        "                                                    stratify = y,\n",
        "                                                    random_state = 123)"
      ],
      "execution_count": null,
      "outputs": []
    },
    {
      "cell_type": "code",
      "metadata": {
        "id": "2qJmJZ43qLLR",
        "colab_type": "code",
        "colab": {
          "base_uri": "https://localhost:8080/",
          "height": 84
        },
        "outputId": "4f5cd1cd-fdb9-4b28-91d8-982a6021b89e"
      },
      "source": [
        "print(x_train.shape)\n",
        "print(x_test.shape)\n",
        "print(y_train.shape)\n",
        "print(y_test.shape)"
      ],
      "execution_count": null,
      "outputs": [
        {
          "output_type": "stream",
          "text": [
            "(9744, 473)\n",
            "(4176, 473)\n",
            "(9744,)\n",
            "(4176,)\n"
          ],
          "name": "stdout"
        }
      ]
    },
    {
      "cell_type": "markdown",
      "metadata": {
        "id": "5jUUhtk1qLLT",
        "colab_type": "text"
      },
      "source": [
        "#### Baseline Model - sidebar_color"
      ]
    },
    {
      "cell_type": "markdown",
      "metadata": {
        "id": "SOntPKJqqLLT",
        "colab_type": "text"
      },
      "source": [
        "Calculating the baseline model by predicting the most frequently occuring gender class in the dataset."
      ]
    },
    {
      "cell_type": "code",
      "metadata": {
        "id": "URqSkpViqLLU",
        "colab_type": "code",
        "colab": {}
      },
      "source": [
        "base_model = make_pipeline(CountVectorizer(analyzer=identity), DummyClassifier('most_frequent'))     \n",
        "base_score = cross_val_score(base_model,dfcolFiltered['sidebar_color'], \n",
        "                             dfcolFiltered['gender'], cv=3, n_jobs=-1)"
      ],
      "execution_count": null,
      "outputs": []
    },
    {
      "cell_type": "code",
      "metadata": {
        "id": "EWAugjtSqLLV",
        "colab_type": "code",
        "colab": {
          "base_uri": "https://localhost:8080/",
          "height": 34
        },
        "outputId": "2c3f8ce7-11d3-4860-bce4-70658cb85b06"
      },
      "source": [
        "base_score.mean()"
      ],
      "execution_count": null,
      "outputs": [
        {
          "output_type": "execute_result",
          "data": {
            "text/plain": [
              "0.3852729885057471"
            ]
          },
          "metadata": {
            "tags": []
          },
          "execution_count": 64
        }
      ]
    },
    {
      "cell_type": "markdown",
      "metadata": {
        "id": "l62qQz9ZqLLX",
        "colab_type": "text"
      },
      "source": [
        "The accuracy of baseline model is 38.52%"
      ]
    },
    {
      "cell_type": "markdown",
      "metadata": {
        "id": "vYFaJIDYqLLX",
        "colab_type": "text"
      },
      "source": [
        "#### Results for sidebar_color feature"
      ]
    },
    {
      "cell_type": "code",
      "metadata": {
        "id": "SAtEWcq8qLLY",
        "colab_type": "code",
        "colab": {
          "base_uri": "https://localhost:8080/",
          "height": 171
        },
        "outputId": "b2c8e0a1-0446-4f06-b97a-7c7a834e5977"
      },
      "source": [
        "results_sc =  pd.Series([eval_model(model) for model in models], \n",
        "                     index = ['logit', 'knn', 'svc'])"
      ],
      "execution_count": null,
      "outputs": [
        {
          "output_type": "stream",
          "text": [
            "/usr/local/lib/python3.6/dist-packages/sklearn/linear_model/_logistic.py:940: ConvergenceWarning: lbfgs failed to converge (status=1):\n",
            "STOP: TOTAL NO. of ITERATIONS REACHED LIMIT.\n",
            "\n",
            "Increase the number of iterations (max_iter) or scale the data as shown in:\n",
            "    https://scikit-learn.org/stable/modules/preprocessing.html\n",
            "Please also refer to the documentation for alternative solver options:\n",
            "    https://scikit-learn.org/stable/modules/linear_model.html#logistic-regression\n",
            "  extra_warning_msg=_LOGISTIC_SOLVER_CONVERGENCE_MSG)\n"
          ],
          "name": "stderr"
        }
      ]
    },
    {
      "cell_type": "code",
      "metadata": {
        "id": "j3DMlBYrqLLa",
        "colab_type": "code",
        "colab": {
          "base_uri": "https://localhost:8080/",
          "height": 84
        },
        "outputId": "c14b21d9-6c80-436f-bee8-58b7cbbb06f6"
      },
      "source": [
        "print(results_sc)"
      ],
      "execution_count": null,
      "outputs": [
        {
          "output_type": "stream",
          "text": [
            "logit    0.410920\n",
            "knn      0.349856\n",
            "svc      0.410920\n",
            "dtype: float64\n"
          ],
          "name": "stdout"
        }
      ]
    },
    {
      "cell_type": "markdown",
      "metadata": {
        "id": "Ba_e2WRCqLLc",
        "colab_type": "text"
      },
      "source": [
        "It seems that Logistic Regression model is performing better again when sidebar_color feature is used to predict the gender."
      ]
    },
    {
      "cell_type": "markdown",
      "metadata": {
        "id": "V0Xg_DKYqLLc",
        "colab_type": "text"
      },
      "source": [
        "#### Plotting the bar plot for accuracies obtained for sidebar_color feature"
      ]
    },
    {
      "cell_type": "code",
      "metadata": {
        "id": "0EGfixKDqLLc",
        "colab_type": "code",
        "colab": {}
      },
      "source": [
        "mse_model = []\n",
        "acc_model = []\n",
        "for i in range(3):\n",
        "    acc = results_sc[i]\n",
        "    acc_model.append(acc)"
      ],
      "execution_count": null,
      "outputs": []
    },
    {
      "cell_type": "code",
      "metadata": {
        "id": "It19ycaBqLLg",
        "colab_type": "code",
        "colab": {
          "base_uri": "https://localhost:8080/",
          "height": 298
        },
        "outputId": "20c31c68-90ee-44ce-fe79-522e69d5f57b"
      },
      "source": [
        "acc_model = pd.Series(acc_model, index = ['logit', 'knn', 'svc'])\n",
        "acc_model.plot(kind = 'barh', title = 'Accuracy of the models on sidebar_color feature')"
      ],
      "execution_count": null,
      "outputs": [
        {
          "output_type": "execute_result",
          "data": {
            "text/plain": [
              "<matplotlib.axes._subplots.AxesSubplot at 0x7f72933ac6d8>"
            ]
          },
          "metadata": {
            "tags": []
          },
          "execution_count": 68
        },
        {
          "output_type": "display_data",
          "data": {
            "image/png": "[encoded data removed]",
            "text/plain": [
              "<Figure size 432x288 with 1 Axes>"
            ]
          },
          "metadata": {
            "tags": [],
            "needs_background": "light"
          }
        }
      ]
    },
    {
      "cell_type": "markdown",
      "metadata": {
        "id": "fRmvR3ywqLLi",
        "colab_type": "text"
      },
      "source": [
        "<b>Conclusion:</b> It can be observed that all the models yield approximately the same accuracy around 30-42% for both the link_color and sidebar_color features. 41% is not significant improvement in prediction of user's gender since baseline model is predicting with 38% accuracy."
      ]
    },
    {
      "cell_type": "markdown",
      "metadata": {
        "id": "3JjBlSaSqLLi",
        "colab_type": "text"
      },
      "source": [
        "Hence, I would explore texts of the user to see if the texts are providing better results"
      ]
    },
    {
      "cell_type": "markdown",
      "metadata": {
        "id": "q960VXoiqLLi",
        "colab_type": "text"
      },
      "source": [
        "### How well does tweets and profile descriptions predict users gender?"
      ]
    },
    {
      "cell_type": "code",
      "metadata": {
        "id": "tTSg-t87qLLj",
        "colab_type": "code",
        "colab": {}
      },
      "source": [
        "dfTextmod = dfText"
      ],
      "execution_count": null,
      "outputs": []
    },
    {
      "cell_type": "markdown",
      "metadata": {
        "id": "zuoxqqYsqLLl",
        "colab_type": "text"
      },
      "source": [
        "### A. Considering only the description text collected from user's profile"
      ]
    },
    {
      "cell_type": "code",
      "metadata": {
        "id": "7KMjUILTqLLl",
        "colab_type": "code",
        "colab": {}
      },
      "source": [
        "bow = bag_of_words_cal(dfTextmod['desc_normalized'])\n",
        "X = bow\n",
        "\n",
        "y = LabelEncoder().fit_transform(dfTextmod['gender'])"
      ],
      "execution_count": null,
      "outputs": []
    },
    {
      "cell_type": "markdown",
      "metadata": {
        "id": "HDtf0C9DqLLo",
        "colab_type": "text"
      },
      "source": [
        "#### Baseline Model"
      ]
    },
    {
      "cell_type": "code",
      "metadata": {
        "id": "hNuZcbiiqLLo",
        "colab_type": "code",
        "colab": {}
      },
      "source": [
        "from cytoolz import identity\n",
        "from sklearn.dummy import DummyClassifier\n",
        "from sklearn.model_selection import cross_val_score\n",
        "\n",
        "base_model_t = make_pipeline(CountVectorizer(analyzer=identity), DummyClassifier('most_frequent'))     \n",
        "base_score_t = cross_val_score(base_model, dfTextmod['desc_normalized'], dfTextmod['gender'], cv=5, n_jobs=-1)"
      ],
      "execution_count": null,
      "outputs": []
    },
    {
      "cell_type": "code",
      "metadata": {
        "id": "WgWacQdMqLLq",
        "colab_type": "code",
        "colab": {
          "base_uri": "https://localhost:8080/",
          "height": 34
        },
        "outputId": "2b41e2a8-05af-4796-ca98-b65b1f7f540b"
      },
      "source": [
        "base_score_t.mean()"
      ],
      "execution_count": null,
      "outputs": [
        {
          "output_type": "execute_result",
          "data": {
            "text/plain": [
              "0.3888003716359857"
            ]
          },
          "metadata": {
            "tags": []
          },
          "execution_count": 72
        }
      ]
    },
    {
      "cell_type": "markdown",
      "metadata": {
        "id": "MN3Dow9-qLLs",
        "colab_type": "text"
      },
      "source": [
        "The accuracy of baseline model is 38.88%"
      ]
    },
    {
      "cell_type": "markdown",
      "metadata": {
        "id": "CEQMij40qLLs",
        "colab_type": "text"
      },
      "source": [
        "#### Results for description feature used for predicting user gender"
      ]
    },
    {
      "cell_type": "code",
      "metadata": {
        "id": "MOlTmerxqLLt",
        "colab_type": "code",
        "colab": {}
      },
      "source": [
        "x_train, x_test, y_train, y_test = train_test_split(X, y,\n",
        "                                                    test_size=0.3,\n",
        "                                                    stratify = y,\n",
        "                                                    random_state = 123)"
      ],
      "execution_count": null,
      "outputs": []
    },
    {
      "cell_type": "code",
      "metadata": {
        "id": "LbavLY6LqLLu",
        "colab_type": "code",
        "colab": {
          "base_uri": "https://localhost:8080/",
          "height": 171
        },
        "outputId": "3543f6c0-e824-453c-e78e-28524dcf4c24"
      },
      "source": [
        "results_dtext =  pd.Series([eval_model(model) for model in models], \n",
        "                     index = ['logit', 'knn', 'svc'])"
      ],
      "execution_count": null,
      "outputs": [
        {
          "output_type": "stream",
          "text": [
            "/usr/local/lib/python3.6/dist-packages/sklearn/linear_model/_logistic.py:940: ConvergenceWarning: lbfgs failed to converge (status=1):\n",
            "STOP: TOTAL NO. of ITERATIONS REACHED LIMIT.\n",
            "\n",
            "Increase the number of iterations (max_iter) or scale the data as shown in:\n",
            "    https://scikit-learn.org/stable/modules/preprocessing.html\n",
            "Please also refer to the documentation for alternative solver options:\n",
            "    https://scikit-learn.org/stable/modules/linear_model.html#logistic-regression\n",
            "  extra_warning_msg=_LOGISTIC_SOLVER_CONVERGENCE_MSG)\n"
          ],
          "name": "stderr"
        }
      ]
    },
    {
      "cell_type": "code",
      "metadata": {
        "id": "mux9JradqLLw",
        "colab_type": "code",
        "colab": {
          "base_uri": "https://localhost:8080/",
          "height": 84
        },
        "outputId": "ed136e4d-26f8-4935-d486-17f798604980"
      },
      "source": [
        "print(results_dtext)"
      ],
      "execution_count": null,
      "outputs": [
        {
          "output_type": "stream",
          "text": [
            "logit    0.608885\n",
            "knn      0.448093\n",
            "svc      0.603573\n",
            "dtype: float64\n"
          ],
          "name": "stdout"
        }
      ]
    },
    {
      "cell_type": "markdown",
      "metadata": {
        "id": "6bzft3dLqLLy",
        "colab_type": "text"
      },
      "source": [
        "Logistic Regression model is performing better with 61.87% accuracy"
      ]
    },
    {
      "cell_type": "markdown",
      "metadata": {
        "id": "8z_jMk5jqLLy",
        "colab_type": "text"
      },
      "source": [
        "#### Plotting the accuracy barplot"
      ]
    },
    {
      "cell_type": "code",
      "metadata": {
        "id": "hRcon2GPqLLy",
        "colab_type": "code",
        "colab": {}
      },
      "source": [
        "mse_model_text = []\n",
        "acc_model_text = []\n",
        "for i in range(3):\n",
        "    acc = results_dtext[i]\n",
        "    acc_model_text.append(acc)"
      ],
      "execution_count": null,
      "outputs": []
    },
    {
      "cell_type": "code",
      "metadata": {
        "id": "ZzJc8vcBqLL2",
        "colab_type": "code",
        "colab": {
          "base_uri": "https://localhost:8080/",
          "height": 298
        },
        "outputId": "45fbbcdb-a324-495e-8c27-01437271a963"
      },
      "source": [
        "acc_model_text = pd.Series(acc_model_text, index = ['logit', 'knn', 'svc'])\n",
        "acc_model_text.plot(kind = 'barh', title = 'Accuracy of the models based on the profile descriptions of the users')"
      ],
      "execution_count": null,
      "outputs": [
        {
          "output_type": "execute_result",
          "data": {
            "text/plain": [
              "<matplotlib.axes._subplots.AxesSubplot at 0x7f7293381c88>"
            ]
          },
          "metadata": {
            "tags": []
          },
          "execution_count": 77
        },
        {
          "output_type": "display_data",
          "data": {
            "image/png": "[encoded data removed]",
            "text/plain": [
              "<Figure size 432x288 with 1 Axes>"
            ]
          },
          "metadata": {
            "tags": [],
            "needs_background": "light"
          }
        }
      ]
    },
    {
      "cell_type": "markdown",
      "metadata": {
        "id": "Bd8eFB1tqLL3",
        "colab_type": "text"
      },
      "source": [
        "### B. Considering only the Tweets text posted by the user"
      ]
    },
    {
      "cell_type": "code",
      "metadata": {
        "id": "cg9SOkLEqLL4",
        "colab_type": "code",
        "colab": {}
      },
      "source": [
        "bow = bag_of_words_cal(dfTextmod['text_normalized'])\n",
        "X = bow\n",
        "### B. Considering only the Tweets text posted by the user\n",
        "y = LabelEncoder().fit_transform(dfTextmod['gender'])"
      ],
      "execution_count": null,
      "outputs": []
    },
    {
      "cell_type": "markdown",
      "metadata": {
        "id": "TStxRFsgqLL6",
        "colab_type": "text"
      },
      "source": [
        "#### Baseline Model"
      ]
    },
    {
      "cell_type": "code",
      "metadata": {
        "id": "_aA379JvqLL6",
        "colab_type": "code",
        "colab": {}
      },
      "source": [
        "from cytoolz import identity\n",
        "from sklearn.dummy import DummyClassifier\n",
        "from sklearn.model_selection import cross_val_score\n",
        "base_model_t = make_pipeline(CountVectorizer(analyzer=identity), DummyClassifier('most_frequent'))     \n",
        "base_score_t = cross_val_score(base_model, dfTextmod['text_normalized'], dfTextmod['gender'], cv=5, n_jobs=-1)"
      ],
      "execution_count": null,
      "outputs": []
    },
    {
      "cell_type": "code",
      "metadata": {
        "id": "JYzTfkG1qLL8",
        "colab_type": "code",
        "colab": {
          "base_uri": "https://localhost:8080/",
          "height": 34
        },
        "outputId": "b3bc2495-7de7-4c77-e48d-d82aa0c6cce6"
      },
      "source": [
        "base_score_t.mean()"
      ],
      "execution_count": null,
      "outputs": [
        {
          "output_type": "execute_result",
          "data": {
            "text/plain": [
              "0.3888003716359857"
            ]
          },
          "metadata": {
            "tags": []
          },
          "execution_count": 80
        }
      ]
    },
    {
      "cell_type": "markdown",
      "metadata": {
        "id": "u41gcWSeqLL-",
        "colab_type": "text"
      },
      "source": [
        "The baseline model is performing with 38.88% accuracy"
      ]
    },
    {
      "cell_type": "code",
      "metadata": {
        "id": "HHpsAEAHqLL-",
        "colab_type": "code",
        "colab": {}
      },
      "source": [
        "x_train, x_test, y_train, y_test = train_test_split(X, y,\n",
        "                                                    test_size=0.3,\n",
        "                                                    stratify = y,\n",
        "                                                    random_state = 123)"
      ],
      "execution_count": null,
      "outputs": []
    },
    {
      "cell_type": "markdown",
      "metadata": {
        "id": "GOsnkEaxqLMA",
        "colab_type": "text"
      },
      "source": [
        "#### Results for tweets feature used for predicting user gender"
      ]
    },
    {
      "cell_type": "code",
      "metadata": {
        "id": "we_NiSpjqLMA",
        "colab_type": "code",
        "colab": {
          "base_uri": "https://localhost:8080/",
          "height": 171
        },
        "outputId": "daa701ca-ec4d-4ae6-e717-cb65ddd09323"
      },
      "source": [
        "results_text =  pd.Series([eval_model(model) for model in models], \n",
        "                     index = ['logit', 'knn', 'svc'])"
      ],
      "execution_count": null,
      "outputs": [
        {
          "output_type": "stream",
          "text": [
            "/usr/local/lib/python3.6/dist-packages/sklearn/linear_model/_logistic.py:940: ConvergenceWarning: lbfgs failed to converge (status=1):\n",
            "STOP: TOTAL NO. of ITERATIONS REACHED LIMIT.\n",
            "\n",
            "Increase the number of iterations (max_iter) or scale the data as shown in:\n",
            "    https://scikit-learn.org/stable/modules/preprocessing.html\n",
            "Please also refer to the documentation for alternative solver options:\n",
            "    https://scikit-learn.org/stable/modules/linear_model.html#logistic-regression\n",
            "  extra_warning_msg=_LOGISTIC_SOLVER_CONVERGENCE_MSG)\n"
          ],
          "name": "stderr"
        }
      ]
    },
    {
      "cell_type": "code",
      "metadata": {
        "id": "fCEUiRFpqLMB",
        "colab_type": "code",
        "colab": {
          "base_uri": "https://localhost:8080/",
          "height": 84
        },
        "outputId": "ea7981c3-7f90-4ea4-bd3e-4f6ce9408e35"
      },
      "source": [
        "print(results_text)"
      ],
      "execution_count": null,
      "outputs": [
        {
          "output_type": "stream",
          "text": [
            "logit    0.531386\n",
            "knn      0.412603\n",
            "svc      0.540560\n",
            "dtype: float64\n"
          ],
          "name": "stdout"
        }
      ]
    },
    {
      "cell_type": "markdown",
      "metadata": {
        "id": "CiLCLdsLqLMD",
        "colab_type": "text"
      },
      "source": [
        "Logistic Regression is performing better with 53.42% accuracy."
      ]
    },
    {
      "cell_type": "markdown",
      "metadata": {
        "id": "u0X96on6qLMD",
        "colab_type": "text"
      },
      "source": [
        "#### Plotting bar plot for accuracy"
      ]
    },
    {
      "cell_type": "code",
      "metadata": {
        "id": "sTmhyQNsqLMD",
        "colab_type": "code",
        "colab": {}
      },
      "source": [
        "mse_model_text = []\n",
        "acc_model_text = []\n",
        "for i in range(3):\n",
        "    acc = results_text[i]\n",
        "    acc_model_text.append(acc)"
      ],
      "execution_count": null,
      "outputs": []
    },
    {
      "cell_type": "code",
      "metadata": {
        "id": "u6KRiL0AqLMF",
        "colab_type": "code",
        "colab": {
          "base_uri": "https://localhost:8080/",
          "height": 298
        },
        "outputId": "a108c8e7-e2e8-4b81-e99b-646eeee9d2c5"
      },
      "source": [
        "acc_model_text = pd.Series(acc_model_text, index = ['logit', 'knn', 'svc'])\n",
        "acc_model_text.plot(kind = 'barh', title = 'Accuracy of the models based on the tweets of the users')"
      ],
      "execution_count": null,
      "outputs": [
        {
          "output_type": "execute_result",
          "data": {
            "text/plain": [
              "<matplotlib.axes._subplots.AxesSubplot at 0x7f7292f4f630>"
            ]
          },
          "metadata": {
            "tags": []
          },
          "execution_count": 85
        },
        {
          "output_type": "display_data",
          "data": {
            "image/png": "[encoded data removed]",
            "text/plain": [
              "<Figure size 432x288 with 1 Axes>"
            ]
          },
          "metadata": {
            "tags": [],
            "needs_background": "light"
          }
        }
      ]
    },
    {
      "cell_type": "markdown",
      "metadata": {
        "id": "xpGBP3rpqLMH",
        "colab_type": "text"
      },
      "source": [
        "### C. Combining both description and tweets text together to evaluate the impact"
      ]
    },
    {
      "cell_type": "code",
      "metadata": {
        "id": "rSIAPIC3qLMH",
        "colab_type": "code",
        "colab": {}
      },
      "source": [
        "bow = bag_of_words_cal(dfTextmod['all_text'])\n",
        "X = bow\n",
        "\n",
        "y = LabelEncoder().fit_transform(dfTextmod['gender'])"
      ],
      "execution_count": null,
      "outputs": []
    },
    {
      "cell_type": "markdown",
      "metadata": {
        "id": "hYG_svsSqLMJ",
        "colab_type": "text"
      },
      "source": [
        "#### Baseline Model"
      ]
    },
    {
      "cell_type": "code",
      "metadata": {
        "id": "ALR3jBnUqLMJ",
        "colab_type": "code",
        "colab": {}
      },
      "source": [
        "from cytoolz import identity\n",
        "from sklearn.dummy import DummyClassifier\n",
        "from sklearn.model_selection import cross_val_score\n",
        "base_model_t = make_pipeline(CountVectorizer(analyzer=identity), DummyClassifier('most_frequent'))     \n",
        "base_score_t = cross_val_score(base_model, dfTextmod['all_text'], dfTextmod['gender'], cv=5, n_jobs=-1)"
      ],
      "execution_count": null,
      "outputs": []
    },
    {
      "cell_type": "code",
      "metadata": {
        "id": "GNeLu5F2qLML",
        "colab_type": "code",
        "colab": {
          "base_uri": "https://localhost:8080/",
          "height": 34
        },
        "outputId": "661fa970-30de-4489-bd45-3d3cc7a67d36"
      },
      "source": [
        "base_score_t.mean()"
      ],
      "execution_count": null,
      "outputs": [
        {
          "output_type": "execute_result",
          "data": {
            "text/plain": [
              "0.3888003716359857"
            ]
          },
          "metadata": {
            "tags": []
          },
          "execution_count": 88
        }
      ]
    },
    {
      "cell_type": "markdown",
      "metadata": {
        "id": "acME0rYxqLMO",
        "colab_type": "text"
      },
      "source": [
        "The accuracy of baseline model after combining texts of both the profile description and tweets is 38.88%"
      ]
    },
    {
      "cell_type": "code",
      "metadata": {
        "id": "AuPf80kwqLMO",
        "colab_type": "code",
        "colab": {}
      },
      "source": [
        "x_train, x_test, y_train, y_test = train_test_split(X, y,\n",
        "                                                    test_size=0.3,\n",
        "                                                    stratify = y,\n",
        "                                                    random_state = 123)"
      ],
      "execution_count": null,
      "outputs": []
    },
    {
      "cell_type": "markdown",
      "metadata": {
        "id": "RDO47wldqLMP",
        "colab_type": "text"
      },
      "source": [
        "#### Results for both the text (tweet and profile description)"
      ]
    },
    {
      "cell_type": "code",
      "metadata": {
        "id": "qK-rzDM3qLMQ",
        "colab_type": "code",
        "colab": {
          "base_uri": "https://localhost:8080/",
          "height": 171
        },
        "outputId": "22564b50-350f-41e1-8081-09d0ca9a1716"
      },
      "source": [
        "results_text =  pd.Series([eval_model(model) for model in models], \n",
        "                     index = ['logit', 'knn', 'svc'])"
      ],
      "execution_count": null,
      "outputs": [
        {
          "output_type": "stream",
          "text": [
            "/usr/local/lib/python3.6/dist-packages/sklearn/linear_model/_logistic.py:940: ConvergenceWarning: lbfgs failed to converge (status=1):\n",
            "STOP: TOTAL NO. of ITERATIONS REACHED LIMIT.\n",
            "\n",
            "Increase the number of iterations (max_iter) or scale the data as shown in:\n",
            "    https://scikit-learn.org/stable/modules/preprocessing.html\n",
            "Please also refer to the documentation for alternative solver options:\n",
            "    https://scikit-learn.org/stable/modules/linear_model.html#logistic-regression\n",
            "  extra_warning_msg=_LOGISTIC_SOLVER_CONVERGENCE_MSG)\n"
          ],
          "name": "stderr"
        }
      ]
    },
    {
      "cell_type": "code",
      "metadata": {
        "id": "b-RKCG4tqLMS",
        "colab_type": "code",
        "colab": {
          "base_uri": "https://localhost:8080/",
          "height": 84
        },
        "outputId": "fcfbc549-0a95-4fe1-e407-6a3705dd5e8c"
      },
      "source": [
        "print(results_text)"
      ],
      "execution_count": null,
      "outputs": [
        {
          "output_type": "stream",
          "text": [
            "logit    0.650169\n",
            "knn      0.443023\n",
            "svc      0.642926\n",
            "dtype: float64\n"
          ],
          "name": "stdout"
        }
      ]
    },
    {
      "cell_type": "markdown",
      "metadata": {
        "id": "bnRML7u6qLMU",
        "colab_type": "text"
      },
      "source": [
        "Logistic Regression is performing best with 65.69% accuracy"
      ]
    },
    {
      "cell_type": "markdown",
      "metadata": {
        "id": "SnYXFzKkqLMU",
        "colab_type": "text"
      },
      "source": [
        "#### Plotting bar plot for accuracy"
      ]
    },
    {
      "cell_type": "code",
      "metadata": {
        "id": "j3oEUF7qqLMV",
        "colab_type": "code",
        "colab": {}
      },
      "source": [
        "mse_model_text = []\n",
        "acc_model_text = []\n",
        "for i in range(3):\n",
        "    acc = results_text[i]\n",
        "    acc_model_text.append(acc)"
      ],
      "execution_count": null,
      "outputs": []
    },
    {
      "cell_type": "code",
      "metadata": {
        "id": "5T76P1rzqLMW",
        "colab_type": "code",
        "colab": {
          "base_uri": "https://localhost:8080/",
          "height": 298
        },
        "outputId": "c5aaa018-1098-42ed-d07b-f88e867922d4"
      },
      "source": [
        "acc_model_text = pd.Series(acc_model_text, index = ['logit', 'knn', 'svc'])\n",
        "acc_model_text.plot(kind = 'barh', title = 'Accuracy of the models on both tweets and profile description')"
      ],
      "execution_count": null,
      "outputs": [
        {
          "output_type": "execute_result",
          "data": {
            "text/plain": [
              "<matplotlib.axes._subplots.AxesSubplot at 0x7f7290646b00>"
            ]
          },
          "metadata": {
            "tags": []
          },
          "execution_count": 93
        },
        {
          "output_type": "display_data",
          "data": {
            "image/png": "[encoded data removed]",
            "text/plain": [
              "<Figure size 432x288 with 1 Axes>"
            ]
          },
          "metadata": {
            "tags": [],
            "needs_background": "light"
          }
        }
      ]
    },
    {
      "cell_type": "markdown",
      "metadata": {
        "id": "bqWD0Zoo_xhh",
        "colab_type": "text"
      },
      "source": [
        "###Average Voting Classifier - an Ensemble Technique"
      ]
    },
    {
      "cell_type": "code",
      "metadata": {
        "id": "ZMvv7YANKUyk",
        "colab_type": "code",
        "colab": {}
      },
      "source": [
        "from sklearn.calibration import CalibratedClassifierCV\n",
        "\n",
        "sig_clf1 = CalibratedClassifierCV(models[0], method=\"sigmoid\")\n",
        "sig_clf2 = CalibratedClassifierCV(models[1], method=\"sigmoid\")\n",
        "sig_clf3 = CalibratedClassifierCV(models[2], method=\"sigmoid\") "
      ],
      "execution_count": null,
      "outputs": []
    },
    {
      "cell_type": "code",
      "metadata": {
        "id": "Lml0G-Fb_vep",
        "colab_type": "code",
        "colab": {
          "base_uri": "https://localhost:8080/",
          "height": 742
        },
        "outputId": "35cd2e21-7878-4fe8-bc5f-9a287bd5314c"
      },
      "source": [
        "from sklearn.ensemble import VotingClassifier\n",
        "vclf = VotingClassifier(estimators=[('lr', sig_clf1),('knn',sig_clf2),('svc', sig_clf3)], voting='soft')\n",
        "results_text = pd.Series([eval_model(vclf)],index = ['AvgVoting'])\n",
        "print(results_text)"
      ],
      "execution_count": null,
      "outputs": [
        {
          "output_type": "stream",
          "text": [
            "/usr/local/lib/python3.6/dist-packages/sklearn/linear_model/_logistic.py:940: ConvergenceWarning: lbfgs failed to converge (status=1):\n",
            "STOP: TOTAL NO. of ITERATIONS REACHED LIMIT.\n",
            "\n",
            "Increase the number of iterations (max_iter) or scale the data as shown in:\n",
            "    https://scikit-learn.org/stable/modules/preprocessing.html\n",
            "Please also refer to the documentation for alternative solver options:\n",
            "    https://scikit-learn.org/stable/modules/linear_model.html#logistic-regression\n",
            "  extra_warning_msg=_LOGISTIC_SOLVER_CONVERGENCE_MSG)\n",
            "/usr/local/lib/python3.6/dist-packages/sklearn/linear_model/_logistic.py:940: ConvergenceWarning: lbfgs failed to converge (status=1):\n",
            "STOP: TOTAL NO. of ITERATIONS REACHED LIMIT.\n",
            "\n",
            "Increase the number of iterations (max_iter) or scale the data as shown in:\n",
            "    https://scikit-learn.org/stable/modules/preprocessing.html\n",
            "Please also refer to the documentation for alternative solver options:\n",
            "    https://scikit-learn.org/stable/modules/linear_model.html#logistic-regression\n",
            "  extra_warning_msg=_LOGISTIC_SOLVER_CONVERGENCE_MSG)\n",
            "/usr/local/lib/python3.6/dist-packages/sklearn/linear_model/_logistic.py:940: ConvergenceWarning: lbfgs failed to converge (status=1):\n",
            "STOP: TOTAL NO. of ITERATIONS REACHED LIMIT.\n",
            "\n",
            "Increase the number of iterations (max_iter) or scale the data as shown in:\n",
            "    https://scikit-learn.org/stable/modules/preprocessing.html\n",
            "Please also refer to the documentation for alternative solver options:\n",
            "    https://scikit-learn.org/stable/modules/linear_model.html#logistic-regression\n",
            "  extra_warning_msg=_LOGISTIC_SOLVER_CONVERGENCE_MSG)\n",
            "/usr/local/lib/python3.6/dist-packages/sklearn/linear_model/_logistic.py:940: ConvergenceWarning: lbfgs failed to converge (status=1):\n",
            "STOP: TOTAL NO. of ITERATIONS REACHED LIMIT.\n",
            "\n",
            "Increase the number of iterations (max_iter) or scale the data as shown in:\n",
            "    https://scikit-learn.org/stable/modules/preprocessing.html\n",
            "Please also refer to the documentation for alternative solver options:\n",
            "    https://scikit-learn.org/stable/modules/linear_model.html#logistic-regression\n",
            "  extra_warning_msg=_LOGISTIC_SOLVER_CONVERGENCE_MSG)\n",
            "/usr/local/lib/python3.6/dist-packages/sklearn/linear_model/_logistic.py:940: ConvergenceWarning: lbfgs failed to converge (status=1):\n",
            "STOP: TOTAL NO. of ITERATIONS REACHED LIMIT.\n",
            "\n",
            "Increase the number of iterations (max_iter) or scale the data as shown in:\n",
            "    https://scikit-learn.org/stable/modules/preprocessing.html\n",
            "Please also refer to the documentation for alternative solver options:\n",
            "    https://scikit-learn.org/stable/modules/linear_model.html#logistic-regression\n",
            "  extra_warning_msg=_LOGISTIC_SOLVER_CONVERGENCE_MSG)\n"
          ],
          "name": "stderr"
        },
        {
          "output_type": "stream",
          "text": [
            "AvgVoting    0.64365\n",
            "dtype: float64\n"
          ],
          "name": "stdout"
        }
      ]
    },
    {
      "cell_type": "markdown",
      "metadata": {
        "id": "YUciTKPUM3CS",
        "colab_type": "text"
      },
      "source": [
        "###Max Voting Classifier"
      ]
    },
    {
      "cell_type": "code",
      "metadata": {
        "id": "md-x6VIQMY0Q",
        "colab_type": "code",
        "colab": {
          "base_uri": "https://localhost:8080/",
          "height": 205
        },
        "outputId": "57128d79-5cc2-411c-9e6b-98f3889b8d7a"
      },
      "source": [
        "vclf = VotingClassifier(estimators=[('lr', models[0]),('knn',models[1]),('svc', models[2])], voting='hard')\n",
        "results_text = pd.Series([eval_model(vclf)],index = ['AvgVoting'])\n",
        "print(results_text)"
      ],
      "execution_count": null,
      "outputs": [
        {
          "output_type": "stream",
          "text": [
            "/usr/local/lib/python3.6/dist-packages/sklearn/linear_model/_logistic.py:940: ConvergenceWarning: lbfgs failed to converge (status=1):\n",
            "STOP: TOTAL NO. of ITERATIONS REACHED LIMIT.\n",
            "\n",
            "Increase the number of iterations (max_iter) or scale the data as shown in:\n",
            "    https://scikit-learn.org/stable/modules/preprocessing.html\n",
            "Please also refer to the documentation for alternative solver options:\n",
            "    https://scikit-learn.org/stable/modules/linear_model.html#logistic-regression\n",
            "  extra_warning_msg=_LOGISTIC_SOLVER_CONVERGENCE_MSG)\n"
          ],
          "name": "stderr"
        },
        {
          "output_type": "stream",
          "text": [
            "AvgVoting    0.643168\n",
            "dtype: float64\n"
          ],
          "name": "stdout"
        }
      ]
    },
    {
      "cell_type": "markdown",
      "metadata": {
        "id": "PtGGW6TPqLMY",
        "colab_type": "text"
      },
      "source": [
        "## Conclusion:"
      ]
    },
    {
      "cell_type": "markdown",
      "metadata": {
        "id": "la4WS6LIqLMY",
        "colab_type": "text"
      },
      "source": [
        "<ol>\n",
        "    <li>Logistic Regression alone is performing best in predicting gender of the users among the 5 models(2 ensembles) with test accuracy = 65.01%.</li>\n",
        "    <li>Combining texts from tweet and profile description yeilds better accuracy when compared to considering text from each separately.</li>\n",
        "    <li>Text feature is better in predicting users' gender when compared to color features</li>\n",
        "</ol>"
      ]
    },
    {
      "cell_type": "code",
      "metadata": {
        "id": "Q5kTtVqyqLMY",
        "colab_type": "code",
        "colab": {}
      },
      "source": [
        ""
      ],
      "execution_count": null,
      "outputs": []
    }
  ]
}